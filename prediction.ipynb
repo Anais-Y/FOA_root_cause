{
 "cells": [
  {
   "cell_type": "code",
   "execution_count": 1,
   "metadata": {},
   "outputs": [],
   "source": [
    "from sklearn.ensemble import RandomForestClassifier\n",
    "from sklearn.model_selection import train_test_split\n",
    "import matplotlib.pyplot as plt\n",
    "from Analyse import visualizeImportance\n",
    "\n",
    "def randomForest(labels, data):\n",
    "    clf = RandomForestClassifier(random_state=42)\n",
    "    X_train, X_test, y_train, y_test = train_test_split(data, labels, random_state=42)\n",
    "    clf.fit(X_train, y_train)\n",
    "    accuracy = clf.score(X_test, y_test)\n",
    "    print('Accuracy of prediction: ','{:.2f}'.format(accuracy*100), '%')\n",
    "    vis_featureImportance = input('Would you like to know the feature importance?(y/n):')\n",
    "    if vis_featureImportance == 'y':\n",
    "        visualizeImportance(data, clf)\n",
    "    \n",
    "    return clf"
   ]
  },
  {
   "cell_type": "code",
   "execution_count": 10,
   "metadata": {},
   "outputs": [],
   "source": [
    "import pandas as pd\n",
    "def data_sampling(data_labeled, FOA_label):\n",
    "    sample_ELF = int(input('How many ELF?'))\n",
    "    sample_FOA = int(input('How many FOA?'))\n",
    "    k1=data_labeled[data_labeled['adjusted_earlylife_failure']==FOA_label-1].sample(sample_ELF, random_state = 42)\n",
    "    k2=data_labeled[data_labeled['adjusted_earlylife_failure']==FOA_label].sample(sample_FOA, random_state = 42)\n",
    "    k3=data_labeled[data_labeled['adjusted_earlylife_failure']==FOA_label+1].sample(sample_FOA, random_state = 42)\n",
    "    data_labeled_sample = pd.concat([k1,k2,k3])\n",
    "    labels = data_labeled_sample['adjusted_earlylife_failure']\n",
    "    data_sample = data_labeled_sample.drop(columns = ['Unnamed: 0', 'adjusted_earlylife_failure','elf_days'])\n",
    "\n",
    "    return data_sample, labels"
   ]
  },
  {
   "cell_type": "code",
   "execution_count": 21,
   "metadata": {},
   "outputs": [
    {
     "name": "stdout",
     "output_type": "stream",
     "text": [
      "We have  746 parts 45  FOAs among them.\n"
     ]
    }
   ],
   "source": [
    "from Analyse import prepareData\n",
    "import numpy as np\n",
    "\n",
    "file_name = input('Please give me your file name:')\n",
    "data, labels, data_labeled, FOA_label = prepareData(file_name)\n"
   ]
  },
  {
   "cell_type": "code",
   "execution_count": 22,
   "metadata": {},
   "outputs": [
    {
     "name": "stdout",
     "output_type": "stream",
     "text": [
      "Accuracy of prediction:  70.59 %\n",
      "(135, 63)\n"
     ]
    }
   ],
   "source": [
    "data_sample, labels = data_sampling(data_labeled, FOA_label)\n",
    "clf = randomForest(labels, data_sample)\n",
    "print(data_sample.shape)"
   ]
  },
  {
   "cell_type": "code",
   "execution_count": 28,
   "metadata": {},
   "outputs": [],
   "source": [
    "\n",
    "def save_file(datas,value,filep):\n",
    "    with pd.ExcelWriter(filep+'/tracing_{}.xlsx'.format(value)) as writer:\n",
    "        for e in datas.keys():\n",
    "            try:\n",
    "                datas[e].to_excel(writer,sheet_name=e, index=False)\n",
    "            except:# s'il marche pas, transformer à UTF-8 et réessayer\n",
    "                datas[e]=datas[e].applymap(lambda x: x.encode('unicode_escape').decode('utf-8') if isinstance(x, str) else x)\n",
    "                #applymap: apply a function to dataframe elementwise\n",
    "                datas[e].to_excel(writer,sheet_name=e, index=False)\n",
    "    print('saved !!')"
   ]
  },
  {
   "cell_type": "code",
   "execution_count": null,
   "metadata": {},
   "outputs": [],
   "source": [
    "import datetime\n",
    "import os\n",
    "path = './log/'\n",
    "folder_name = path+str(datetime.date.today())\n",
    "if not os.path.exists(folder_name):\n",
    "    os.mkdir(folder_name)"
   ]
  },
  {
   "cell_type": "code",
   "execution_count": 160,
   "metadata": {},
   "outputs": [
    {
     "name": "stdout",
     "output_type": "stream",
     "text": [
      "Connecting to database...\n",
      "connected\n",
      "1689766906.8562293\n",
      "SELECT [DW_ERT_KEY] [indices],[ITEM], [Item Description], [Current Item Type], [Current First Put-Away Date (FPAD)], [Current Item Status], [Vendor GSL Number], [Vendor Name],[Vendor Site Code], [PO1 PO Number], [PO1 Need By Date], [PO1 PO Header Description], [PO1 Approved Date], [PO1 Creation Date],  [PO1 Shipment Last Update Date], [PO1 Receipt Date], [PO1 PO Type], [PO1 PO Type DFF], [PO1 Authorization Status], [PO2 PO Number], [SO1 Shipping Warehouse], [FE Number], [FE SSO], [Failure Code],[Part Failure Analysis],[FE Comments],[Supplier Comments],[Analyst Comments], [Repair Status], [Repair Action], [Job Number], [SO1 SO Number], [SO1 SO Status], [SO1 Waybill], [SO1 Order Date], [SO1 Ship Date], [SO2 SO Number], [Serial Number], [Part Arrival Date], [Part Repaired Date]FROM [dbo].[vwErt] Where (1=1) AND [PO1 PO Number] = '601008043' \n",
      "1689766907.9376636\n",
      "it takes 1.0814342498779297 s\n",
      "sr 238342KR0\n",
      "1689766907.938722\n",
      "SELECT [DW_ERT_KEY] [indices],[ITEM], [Item Description], [Current Item Type], [Current First Put-Away Date (FPAD)], [Current Item Status], [Vendor GSL Number], [Vendor Name],[Vendor Site Code], [PO1 PO Number], [PO1 Need By Date], [PO1 PO Header Description], [PO1 Approved Date], [PO1 Creation Date],  [PO1 Shipment Last Update Date], [PO1 Receipt Date], [PO1 PO Type], [PO1 PO Type DFF], [PO1 Authorization Status], [PO2 PO Number], [SO1 Shipping Warehouse], [FE Number], [FE SSO], [Failure Code],[Part Failure Analysis],[FE Comments],[Supplier Comments],[Analyst Comments], [Repair Status], [Repair Action], [Job Number], [SO1 SO Number], [SO1 SO Status], [SO1 Waybill], [SO1 Order Date], [SO1 Ship Date], [SO2 SO Number], [Serial Number], [Part Arrival Date], [Part Repaired Date]FROM [dbo].[vwErt] Where (1=1) AND [Serial Number] = '238342KR0' \n",
      "1689766908.859046\n",
      "it takes 0.9203240871429443 s\n",
      "0    601008043\n",
      "1    601045056\n",
      "Name: PO1 PO Number, dtype: object\n",
      "{'date_min': '20220307', 'date_max': '20220712'}\n",
      "1689766909.323723\n",
      "SELECT [DW_TXN_KEY] [indices],[Transaction Day],[Transaction Type],[Transaction Description] ,[Transaction Sub-Type] ,[Transaction Category] ,[Txn Quantity],[Inventory Org],[Subinventory Code],[ITEM],[Item Description],[Job Number],[SO Number],[PO Number],[LPN],[FE Txn Group] [RMA],[SO PO Link],[Job Open Date],[PO Type],[FE SSO], [FE ORG],[System ID],[System Install Date],[Customer Number],[Customer Name],[Customer Country Code],[Customer Pole],[POLE],[LOCATOR],[Transfer Locator],[Vendor Name],[Vendor Site Code], [SO Type], [Reason Name],[PO Header Description],[Failure Description],[Waybill], [Freight Carrier], [SO PO Link Type],[Obso Pivot Code]FROM [dbo].[vwAllTxns_v3] Where (1=1) AND [PO Number] = '601008043' AND [ITEM] = 'KTZ304128-R' AND [Transaction Day]>='20220307' AND [Transaction Day]<='20220712' \n",
      "1689766913.6986349\n",
      "it takes 4.374911785125732 s\n",
      "{'date_min': '20220307', 'date_max': '20220712'}\n"
     ]
    },
    {
     "data": {
      "application/vnd.jupyter.widget-view+json": {
       "model_id": "3ccf4f04ef9f4fe2a9c031b40f7b9bcb",
       "version_major": 2,
       "version_minor": 0
      },
      "text/plain": [
       "  0%|          | 0/6 [00:00<?, ?it/s]"
      ]
     },
     "metadata": {},
     "output_type": "display_data"
    },
    {
     "name": "stdout",
     "output_type": "stream",
     "text": [
      "1689766913.7082078\n",
      "SELECT [DW_TXN_KEY] [indices],[Transaction Day],[Transaction Type],[Transaction Description] ,[Transaction Sub-Type] ,[Transaction Category] ,[Txn Quantity],[Inventory Org],[Subinventory Code],[ITEM],[Item Description],[Job Number],[SO Number],[PO Number],[LPN],[FE Txn Group] [RMA],[SO PO Link],[Job Open Date],[PO Type],[FE SSO], [FE ORG],[System ID],[System Install Date],[Customer Number],[Customer Name],[Customer Country Code],[Customer Pole],[POLE],[LOCATOR],[Transfer Locator],[Vendor Name],[Vendor Site Code], [SO Type], [Reason Name],[PO Header Description],[Failure Description],[Waybill], [Freight Carrier], [SO PO Link Type],[Obso Pivot Code]FROM [dbo].[vwAllTxns_v3] Where (1=1) AND [FE Txn Group] = 'None' AND [ITEM] = 'KTZ304128-R' AND [Transaction Day]>='20220307' AND [Transaction Day]<='20220712' \n",
      "1689766914.5041525\n",
      "it takes 0.7959446907043457 s\n",
      "1689766914.507651\n",
      "SELECT [DW_TXN_KEY] [indices],[Transaction Day],[Transaction Type],[Transaction Description] ,[Transaction Sub-Type] ,[Transaction Category] ,[Txn Quantity],[Inventory Org],[Subinventory Code],[ITEM],[Item Description],[Job Number],[SO Number],[PO Number],[LPN],[FE Txn Group] [RMA],[SO PO Link],[Job Open Date],[PO Type],[FE SSO], [FE ORG],[System ID],[System Install Date],[Customer Number],[Customer Name],[Customer Country Code],[Customer Pole],[POLE],[LOCATOR],[Transfer Locator],[Vendor Name],[Vendor Site Code], [SO Type], [Reason Name],[PO Header Description],[Failure Description],[Waybill], [Freight Carrier], [SO PO Link Type],[Obso Pivot Code]FROM [dbo].[vwAllTxns_v3] Where (1=1) AND [LPN] = 'R00-4620800' AND [ITEM] = 'KTZ304128-R' AND [Transaction Day]>='20220307' AND [Transaction Day]<='20220712' \n",
      "1689766915.3340666\n",
      "it takes 0.8264155387878418 s\n",
      "1689766915.3584845\n",
      "SELECT [DW_TXN_KEY] [indices],[Transaction Day],[Transaction Type],[Transaction Description] ,[Transaction Sub-Type] ,[Transaction Category] ,[Txn Quantity],[Inventory Org],[Subinventory Code],[ITEM],[Item Description],[Job Number],[SO Number],[PO Number],[LPN],[FE Txn Group] [RMA],[SO PO Link],[Job Open Date],[PO Type],[FE SSO], [FE ORG],[System ID],[System Install Date],[Customer Number],[Customer Name],[Customer Country Code],[Customer Pole],[POLE],[LOCATOR],[Transfer Locator],[Vendor Name],[Vendor Site Code], [SO Type], [Reason Name],[PO Header Description],[Failure Description],[Waybill], [Freight Carrier], [SO PO Link Type],[Obso Pivot Code]FROM [dbo].[vwAllTxns_v3] Where (1=1) AND [Job Number] = 'None' AND [ITEM] = 'KTZ304128-R' AND [Transaction Day]>='20220307' AND [Transaction Day]<='20220712' \n",
      "1689766916.114189\n",
      "it takes 0.755704402923584 s\n",
      "1689766916.116886\n",
      "SELECT [DW_TXN_KEY] [indices],[Transaction Day],[Transaction Type],[Transaction Description] ,[Transaction Sub-Type] ,[Transaction Category] ,[Txn Quantity],[Inventory Org],[Subinventory Code],[ITEM],[Item Description],[Job Number],[SO Number],[PO Number],[LPN],[FE Txn Group] [RMA],[SO PO Link],[Job Open Date],[PO Type],[FE SSO], [FE ORG],[System ID],[System Install Date],[Customer Number],[Customer Name],[Customer Country Code],[Customer Pole],[POLE],[LOCATOR],[Transfer Locator],[Vendor Name],[Vendor Site Code], [SO Type], [Reason Name],[PO Header Description],[Failure Description],[Waybill], [Freight Carrier], [SO PO Link Type],[Obso Pivot Code]FROM [dbo].[vwAllTxns_v3] Where (1=1) AND [Job Number] = '0353791984' AND [ITEM] = 'KTZ304128-R' AND [Transaction Day]>='20220307' AND [Transaction Day]<='20220712' \n",
      "1689766916.644544\n",
      "it takes 0.5276579856872559 s\n",
      "1689766916.6692474\n",
      "SELECT [DW_TXN_KEY] [indices],[Transaction Day],[Transaction Type],[Transaction Description] ,[Transaction Sub-Type] ,[Transaction Category] ,[Txn Quantity],[Inventory Org],[Subinventory Code],[ITEM],[Item Description],[Job Number],[SO Number],[PO Number],[LPN],[FE Txn Group] [RMA],[SO PO Link],[Job Open Date],[PO Type],[FE SSO], [FE ORG],[System ID],[System Install Date],[Customer Number],[Customer Name],[Customer Country Code],[Customer Pole],[POLE],[LOCATOR],[Transfer Locator],[Vendor Name],[Vendor Site Code], [SO Type], [Reason Name],[PO Header Description],[Failure Description],[Waybill], [Freight Carrier], [SO PO Link Type],[Obso Pivot Code]FROM [dbo].[vwAllTxns_v3] Where (1=1) AND [Job Number] = '103228.2' AND [ITEM] = 'KTZ304128-R' AND [Transaction Day]>='20220307' AND [Transaction Day]<='20220712' \n",
      "1689766917.1978788\n",
      "it takes 0.5286314487457275 s\n",
      "1689766917.2250123\n",
      "SELECT [DW_TXN_KEY] [indices],[Transaction Day],[Transaction Type],[Transaction Description] ,[Transaction Sub-Type] ,[Transaction Category] ,[Txn Quantity],[Inventory Org],[Subinventory Code],[ITEM],[Item Description],[Job Number],[SO Number],[PO Number],[LPN],[FE Txn Group] [RMA],[SO PO Link],[Job Open Date],[PO Type],[FE SSO], [FE ORG],[System ID],[System Install Date],[Customer Number],[Customer Name],[Customer Country Code],[Customer Pole],[POLE],[LOCATOR],[Transfer Locator],[Vendor Name],[Vendor Site Code], [SO Type], [Reason Name],[PO Header Description],[Failure Description],[Waybill], [Freight Carrier], [SO PO Link Type],[Obso Pivot Code]FROM [dbo].[vwAllTxns_v3] Where (1=1) AND [Job Number] = '387890.1' AND [ITEM] = 'KTZ304128-R' AND [Transaction Day]>='20220307' AND [Transaction Day]<='20220712' \n",
      "1689766917.7495787\n",
      "it takes 0.5245664119720459 s\n",
      "1689766917.780458\n",
      "SELECT [DW_TXN_KEY] [indices],[Transaction Day],[Transaction Type],[Transaction Description] ,[Transaction Sub-Type] ,[Transaction Category] ,[Txn Quantity],[Inventory Org],[Subinventory Code],[ITEM],[Item Description],[Job Number],[SO Number],[PO Number],[LPN],[FE Txn Group] [RMA],[SO PO Link],[Job Open Date],[PO Type],[FE SSO], [FE ORG],[System ID],[System Install Date],[Customer Number],[Customer Name],[Customer Country Code],[Customer Pole],[POLE],[LOCATOR],[Transfer Locator],[Vendor Name],[Vendor Site Code], [SO Type], [Reason Name],[PO Header Description],[Failure Description],[Waybill], [Freight Carrier], [SO PO Link Type],[Obso Pivot Code]FROM [dbo].[vwAllTxns_v3] Where (1=1) AND [SO Number] = 'None' AND [ITEM] = 'KTZ304128-R' AND [Transaction Day]>='20220307' AND [Transaction Day]<='20220712' \n",
      "1689766919.7989738\n",
      "it takes 2.0185158252716064 s\n",
      "1689766919.804532\n",
      "SELECT [DW_TXN_KEY] [indices],[Transaction Day],[Transaction Type],[Transaction Description] ,[Transaction Sub-Type] ,[Transaction Category] ,[Txn Quantity],[Inventory Org],[Subinventory Code],[ITEM],[Item Description],[Job Number],[SO Number],[PO Number],[LPN],[FE Txn Group] [RMA],[SO PO Link],[Job Open Date],[PO Type],[FE SSO], [FE ORG],[System ID],[System Install Date],[Customer Number],[Customer Name],[Customer Country Code],[Customer Pole],[POLE],[LOCATOR],[Transfer Locator],[Vendor Name],[Vendor Site Code], [SO Type], [Reason Name],[PO Header Description],[Failure Description],[Waybill], [Freight Carrier], [SO PO Link Type],[Obso Pivot Code]FROM [dbo].[vwAllTxns_v3] Where (1=1) AND [SO Number] = '105603542' AND [ITEM] = 'KTZ304128-R' AND [Transaction Day]>='20220307' AND [Transaction Day]<='20220712' \n",
      "1689766921.0004923\n",
      "it takes 1.195960283279419 s\n",
      "1689766921.0146184\n",
      "SELECT [DW_TXN_KEY] [indices],[Transaction Day],[Transaction Type],[Transaction Description] ,[Transaction Sub-Type] ,[Transaction Category] ,[Txn Quantity],[Inventory Org],[Subinventory Code],[ITEM],[Item Description],[Job Number],[SO Number],[PO Number],[LPN],[FE Txn Group] [RMA],[SO PO Link],[Job Open Date],[PO Type],[FE SSO], [FE ORG],[System ID],[System Install Date],[Customer Number],[Customer Name],[Customer Country Code],[Customer Pole],[POLE],[LOCATOR],[Transfer Locator],[Vendor Name],[Vendor Site Code], [SO Type], [Reason Name],[PO Header Description],[Failure Description],[Waybill], [Freight Carrier], [SO PO Link Type],[Obso Pivot Code]FROM [dbo].[vwAllTxns_v3] Where (1=1) AND [SO Number] = '340664542' AND [ITEM] = 'KTZ304128-R' AND [Transaction Day]>='20220307' AND [Transaction Day]<='20220712' \n",
      "1689766922.2023966\n",
      "it takes 1.1877782344818115 s\n",
      "1689766922.2133207\n",
      "SELECT [DW_TXN_KEY] [indices],[Transaction Day],[Transaction Type],[Transaction Description] ,[Transaction Sub-Type] ,[Transaction Category] ,[Txn Quantity],[Inventory Org],[Subinventory Code],[ITEM],[Item Description],[Job Number],[SO Number],[PO Number],[LPN],[FE Txn Group] [RMA],[SO PO Link],[Job Open Date],[PO Type],[FE SSO], [FE ORG],[System ID],[System Install Date],[Customer Number],[Customer Name],[Customer Country Code],[Customer Pole],[POLE],[LOCATOR],[Transfer Locator],[Vendor Name],[Vendor Site Code], [SO Type], [Reason Name],[PO Header Description],[Failure Description],[Waybill], [Freight Carrier], [SO PO Link Type],[Obso Pivot Code]FROM [dbo].[vwAllTxns_v3] Where (1=1) AND [SO PO Link] = '122950626' AND [ITEM] = 'KTZ304128-R' AND [Transaction Day]>='20220307' AND [Transaction Day]<='20220712' \n",
      "1689766923.1233585\n",
      "it takes 0.9100377559661865 s\n",
      "1689766923.1316075\n",
      "SELECT [DW_TXN_KEY] [indices],[Transaction Day],[Transaction Type],[Transaction Description] ,[Transaction Sub-Type] ,[Transaction Category] ,[Txn Quantity],[Inventory Org],[Subinventory Code],[ITEM],[Item Description],[Job Number],[SO Number],[PO Number],[LPN],[FE Txn Group] [RMA],[SO PO Link],[Job Open Date],[PO Type],[FE SSO], [FE ORG],[System ID],[System Install Date],[Customer Number],[Customer Name],[Customer Country Code],[Customer Pole],[POLE],[LOCATOR],[Transfer Locator],[Vendor Name],[Vendor Site Code], [SO Type], [Reason Name],[PO Header Description],[Failure Description],[Waybill], [Freight Carrier], [SO PO Link Type],[Obso Pivot Code]FROM [dbo].[vwAllTxns_v3] Where (1=1) AND [SO PO Link] = '69334449' AND [ITEM] = 'KTZ304128-R' AND [Transaction Day]>='20220307' AND [Transaction Day]<='20220712' \n",
      "1689766923.6404405\n",
      "it takes 0.5088329315185547 s\n",
      "1689766923.6535287\n",
      "SELECT [DW_TXN_KEY] [indices],[Transaction Day],[Transaction Type],[Transaction Description] ,[Transaction Sub-Type] ,[Transaction Category] ,[Txn Quantity],[Inventory Org],[Subinventory Code],[ITEM],[Item Description],[Job Number],[SO Number],[PO Number],[LPN],[FE Txn Group] [RMA],[SO PO Link],[Job Open Date],[PO Type],[FE SSO], [FE ORG],[System ID],[System Install Date],[Customer Number],[Customer Name],[Customer Country Code],[Customer Pole],[POLE],[LOCATOR],[Transfer Locator],[Vendor Name],[Vendor Site Code], [SO Type], [Reason Name],[PO Header Description],[Failure Description],[Waybill], [Freight Carrier], [SO PO Link Type],[Obso Pivot Code]FROM [dbo].[vwAllTxns_v3] Where (1=1) AND [SO PO Link] = '69218254' AND [ITEM] = 'KTZ304128-R' AND [Transaction Day]>='20220307' AND [Transaction Day]<='20220712' \n",
      "1689766924.177023\n",
      "it takes 0.5234942436218262 s\n",
      "1689766924.200528\n",
      "SELECT [DW_TXN_KEY] [indices],[Transaction Day],[Transaction Type],[Transaction Description] ,[Transaction Sub-Type] ,[Transaction Category] ,[Txn Quantity],[Inventory Org],[Subinventory Code],[ITEM],[Item Description],[Job Number],[SO Number],[PO Number],[LPN],[FE Txn Group] [RMA],[SO PO Link],[Job Open Date],[PO Type],[FE SSO], [FE ORG],[System ID],[System Install Date],[Customer Number],[Customer Name],[Customer Country Code],[Customer Pole],[POLE],[LOCATOR],[Transfer Locator],[Vendor Name],[Vendor Site Code], [SO Type], [Reason Name],[PO Header Description],[Failure Description],[Waybill], [Freight Carrier], [SO PO Link Type],[Obso Pivot Code]FROM [dbo].[vwAllTxns_v3] Where (1=1) AND [PO Number] = '103228.2' AND [ITEM] = 'KTZ304128-R' AND [Transaction Day]>='20220307' AND [Transaction Day]<='20220712' \n",
      "1689766925.262661\n",
      "it takes 1.0621330738067627 s\n",
      "1689766925.2827573\n",
      "SELECT [DW_TXN_KEY] [indices],[Transaction Day],[Transaction Type],[Transaction Description] ,[Transaction Sub-Type] ,[Transaction Category] ,[Txn Quantity],[Inventory Org],[Subinventory Code],[ITEM],[Item Description],[Job Number],[SO Number],[PO Number],[LPN],[FE Txn Group] [RMA],[SO PO Link],[Job Open Date],[PO Type],[FE SSO], [FE ORG],[System ID],[System Install Date],[Customer Number],[Customer Name],[Customer Country Code],[Customer Pole],[POLE],[LOCATOR],[Transfer Locator],[Vendor Name],[Vendor Site Code], [SO Type], [Reason Name],[PO Header Description],[Failure Description],[Waybill], [Freight Carrier], [SO PO Link Type],[Obso Pivot Code]FROM [dbo].[vwAllTxns_v3] Where (1=1) AND [PO Number] = '387890.1' AND [ITEM] = 'KTZ304128-R' AND [Transaction Day]>='20220307' AND [Transaction Day]<='20220712' \n",
      "1689766926.3528016\n",
      "it takes 1.0700442790985107 s\n",
      "{'date_min': '20220307', 'date_max': '20220712'}\n"
     ]
    },
    {
     "data": {
      "application/vnd.jupyter.widget-view+json": {
       "model_id": "3028f23ed57448d98408321ff4c82f78",
       "version_major": 2,
       "version_minor": 0
      },
      "text/plain": [
       "  0%|          | 0/6 [00:00<?, ?it/s]"
      ]
     },
     "metadata": {},
     "output_type": "display_data"
    },
    {
     "name": "stdout",
     "output_type": "stream",
     "text": [
      "1689766926.3815444\n",
      "SELECT [DW_TXN_KEY] [indices],[Transaction Day],[Transaction Type],[Transaction Description] ,[Transaction Sub-Type] ,[Transaction Category] ,[Txn Quantity],[Inventory Org],[Subinventory Code],[ITEM],[Item Description],[Job Number],[SO Number],[PO Number],[LPN],[FE Txn Group] [RMA],[SO PO Link],[Job Open Date],[PO Type],[FE SSO], [FE ORG],[System ID],[System Install Date],[Customer Number],[Customer Name],[Customer Country Code],[Customer Pole],[POLE],[LOCATOR],[Transfer Locator],[Vendor Name],[Vendor Site Code], [SO Type], [Reason Name],[PO Header Description],[Failure Description],[Waybill], [Freight Carrier], [SO PO Link Type],[Obso Pivot Code]FROM [dbo].[vwAllTxns_v3] Where (1=1) AND [FE Txn Group] = '340664542' AND [ITEM] = 'KTZ304128-R' AND [Transaction Day]>='20220307' AND [Transaction Day]<='20220712' \n",
      "1689766926.858554\n",
      "it takes 0.47700953483581543 s\n",
      "1689766926.8677456\n",
      "SELECT [DW_TXN_KEY] [indices],[Transaction Day],[Transaction Type],[Transaction Description] ,[Transaction Sub-Type] ,[Transaction Category] ,[Txn Quantity],[Inventory Org],[Subinventory Code],[ITEM],[Item Description],[Job Number],[SO Number],[PO Number],[LPN],[FE Txn Group] [RMA],[SO PO Link],[Job Open Date],[PO Type],[FE SSO], [FE ORG],[System ID],[System Install Date],[Customer Number],[Customer Name],[Customer Country Code],[Customer Pole],[POLE],[LOCATOR],[Transfer Locator],[Vendor Name],[Vendor Site Code], [SO Type], [Reason Name],[PO Header Description],[Failure Description],[Waybill], [Freight Carrier], [SO PO Link Type],[Obso Pivot Code]FROM [dbo].[vwAllTxns_v3] Where (1=1) AND [LPN] = 'R00-4548003' AND [ITEM] = 'KTZ304128-R' AND [Transaction Day]>='20220307' AND [Transaction Day]<='20220712' \n",
      "1689766927.381265\n",
      "it takes 0.513519287109375 s\n",
      "1689766927.3867533\n",
      "SELECT [DW_TXN_KEY] [indices],[Transaction Day],[Transaction Type],[Transaction Description] ,[Transaction Sub-Type] ,[Transaction Category] ,[Txn Quantity],[Inventory Org],[Subinventory Code],[ITEM],[Item Description],[Job Number],[SO Number],[PO Number],[LPN],[FE Txn Group] [RMA],[SO PO Link],[Job Open Date],[PO Type],[FE SSO], [FE ORG],[System ID],[System Install Date],[Customer Number],[Customer Name],[Customer Country Code],[Customer Pole],[POLE],[LOCATOR],[Transfer Locator],[Vendor Name],[Vendor Site Code], [SO Type], [Reason Name],[PO Header Description],[Failure Description],[Waybill], [Freight Carrier], [SO PO Link Type],[Obso Pivot Code]FROM [dbo].[vwAllTxns_v3] Where (1=1) AND [Job Number] = '1-10452611400' AND [ITEM] = 'KTZ304128-R' AND [Transaction Day]>='20220307' AND [Transaction Day]<='20220712' \n",
      "1689766927.8924994\n",
      "it takes 0.5057461261749268 s\n",
      "1689766927.918008\n",
      "SELECT [DW_TXN_KEY] [indices],[Transaction Day],[Transaction Type],[Transaction Description] ,[Transaction Sub-Type] ,[Transaction Category] ,[Txn Quantity],[Inventory Org],[Subinventory Code],[ITEM],[Item Description],[Job Number],[SO Number],[PO Number],[LPN],[FE Txn Group] [RMA],[SO PO Link],[Job Open Date],[PO Type],[FE SSO], [FE ORG],[System ID],[System Install Date],[Customer Number],[Customer Name],[Customer Country Code],[Customer Pole],[POLE],[LOCATOR],[Transfer Locator],[Vendor Name],[Vendor Site Code], [SO Type], [Reason Name],[PO Header Description],[Failure Description],[Waybill], [Freight Carrier], [SO PO Link Type],[Obso Pivot Code]FROM [dbo].[vwAllTxns_v3] Where (1=1) AND [SO Number] = '105629649' AND [ITEM] = 'KTZ304128-R' AND [Transaction Day]>='20220307' AND [Transaction Day]<='20220712' \n",
      "1689766929.109703\n",
      "it takes 1.191694974899292 s\n",
      "{'date_min': '20220307', 'date_max': '20220712'}\n"
     ]
    },
    {
     "data": {
      "application/vnd.jupyter.widget-view+json": {
       "model_id": "cbbeda8cbbee4c288f79dc3f16b05399",
       "version_major": 2,
       "version_minor": 0
      },
      "text/plain": [
       "  0%|          | 0/6 [00:00<?, ?it/s]"
      ]
     },
     "metadata": {},
     "output_type": "display_data"
    },
    {
     "name": "stdout",
     "output_type": "stream",
     "text": [
      "1689766929.1217067\n",
      "SELECT [DW_TXN_KEY] [indices],[Transaction Day],[Transaction Type],[Transaction Description] ,[Transaction Sub-Type] ,[Transaction Category] ,[Txn Quantity],[Inventory Org],[Subinventory Code],[ITEM],[Item Description],[Job Number],[SO Number],[PO Number],[LPN],[FE Txn Group] [RMA],[SO PO Link],[Job Open Date],[PO Type],[FE SSO], [FE ORG],[System ID],[System Install Date],[Customer Number],[Customer Name],[Customer Country Code],[Customer Pole],[POLE],[LOCATOR],[Transfer Locator],[Vendor Name],[Vendor Site Code], [SO Type], [Reason Name],[PO Header Description],[Failure Description],[Waybill], [Freight Carrier], [SO PO Link Type],[Obso Pivot Code]FROM [dbo].[vwAllTxns_v3] Where (1=1) AND [LPN] = 'R00-4627954' AND [ITEM] = 'KTZ304128-R' AND [Transaction Day]>='20220307' AND [Transaction Day]<='20220712' \n",
      "1689766929.6326616\n",
      "it takes 0.5109548568725586 s\n",
      "Search finished\n",
      "Data Processing...\n",
      "\n",
      "Collecting components data...\n",
      "saved !!\n"
     ]
    }
   ],
   "source": [
    "# Repaired part\n",
    "import Modules_Tracing as tracing\n",
    "import os\n",
    "\n",
    "repair_po = input('Please register repair po')\n",
    "historydata= tracing.tracing('repair', repair_po, 'F')\n",
    "save_file(historydata,str(repair_po),folder_name)\n"
   ]
  },
  {
   "cell_type": "code",
   "execution_count": 201,
   "metadata": {},
   "outputs": [],
   "source": [
    "# Collection des données\n",
    "import Data_collection_nbINOUT as collecter\n",
    "orgs = pd.read_excel(os.path.join('../liste_entrepot_avec_position.xlsx'))\n",
    "summary = pd.read_excel(f'{folder_name}/tracing_{str(repair_po)}.xlsx', sheet_name='Summary')\n",
    "df_sum = summary.T\n",
    "df_sum.columns=df_sum.iloc[0]\n",
    "df_sum=df_sum.drop(df_sum.index[0])\n",
    "df_sum.set_index('Key_value',inplace=True)"
   ]
  },
  {
   "cell_type": "code",
   "execution_count": 353,
   "metadata": {},
   "outputs": [
    {
     "data": {
      "text/html": [
       "<div>\n",
       "<style scoped>\n",
       "    .dataframe tbody tr th:only-of-type {\n",
       "        vertical-align: middle;\n",
       "    }\n",
       "\n",
       "    .dataframe tbody tr th {\n",
       "        vertical-align: top;\n",
       "    }\n",
       "\n",
       "    .dataframe thead th {\n",
       "        text-align: right;\n",
       "    }\n",
       "</style>\n",
       "<table border=\"1\" class=\"dataframe\">\n",
       "  <thead>\n",
       "    <tr style=\"text-align: right;\">\n",
       "      <th>Columns</th>\n",
       "      <th>Part Status</th>\n",
       "      <th>Customer Country</th>\n",
       "      <th>Customer POLE</th>\n",
       "      <th>Process_owner</th>\n",
       "      <th>Number of Warehouse</th>\n",
       "      <th>Number of returns</th>\n",
       "      <th>Number of Surplus</th>\n",
       "      <th>Number of Pole</th>\n",
       "      <th>Repair QTY</th>\n",
       "    </tr>\n",
       "    <tr>\n",
       "      <th>Key_value</th>\n",
       "      <th></th>\n",
       "      <th></th>\n",
       "      <th></th>\n",
       "      <th></th>\n",
       "      <th></th>\n",
       "      <th></th>\n",
       "      <th></th>\n",
       "      <th></th>\n",
       "      <th></th>\n",
       "    </tr>\n",
       "  </thead>\n",
       "  <tbody>\n",
       "    <tr>\n",
       "      <th>601008043</th>\n",
       "      <td>Shipped to FE and Returned Good</td>\n",
       "      <td>IN</td>\n",
       "      <td>AS</td>\n",
       "      <td>R00&gt;A00&gt;A31&gt;SND&gt;A31&gt;SND&gt;A31</td>\n",
       "      <td>3</td>\n",
       "      <td>1</td>\n",
       "      <td>1</td>\n",
       "      <td>2</td>\n",
       "      <td>2</td>\n",
       "    </tr>\n",
       "  </tbody>\n",
       "</table>\n",
       "</div>"
      ],
      "text/plain": [
       "Columns                        Part Status Customer Country Customer POLE  \\\n",
       "Key_value                                                                   \n",
       "601008043  Shipped to FE and Returned Good               IN            AS   \n",
       "\n",
       "Columns                  Process_owner Number of Warehouse Number of returns  \\\n",
       "Key_value                                                                      \n",
       "601008043  R00>A00>A31>SND>A31>SND>A31                   3                 1   \n",
       "\n",
       "Columns   Number of Surplus Number of Pole Repair QTY  \n",
       "Key_value                                              \n",
       "601008043                 1              2          2  "
      ]
     },
     "execution_count": 353,
     "metadata": {},
     "output_type": "execute_result"
    }
   ],
   "source": [
    "data = df_sum[['Part Status','Customer Country','Customer POLE','Process_owner', \n",
    "               'Number of Warehouse', 'Number of returns', 'Number of Surplus', 'Number of Pole']]\n",
    "data"
   ]
  },
  {
   "cell_type": "code",
   "execution_count": 354,
   "metadata": {},
   "outputs": [
    {
     "name": "stdout",
     "output_type": "stream",
     "text": [
      "R00 601008043\n",
      "A00 601008043\n",
      "A31 601008043\n",
      "SND 601008043\n",
      "A31 601008043\n",
      "SND 601008043\n",
      "A31 601008043\n"
     ]
    }
   ],
   "source": [
    "adresses = collecter.get_position(data, orgs)\n",
    "distances = collecter.col_distances(adresses)\n",
    "before_consumption, after_consumption, INOUT=collecter.col_before_and_after(data, distances)\n",
    "B_distances = [sum(e) for e in before_consumption]\n",
    "A_distances = [sum(e) for e in after_consumption]\n",
    "data['B_distances']=B_distances"
   ]
  },
  {
   "cell_type": "code",
   "execution_count": 355,
   "metadata": {},
   "outputs": [
    {
     "data": {
      "text/html": [
       "<div>\n",
       "<style scoped>\n",
       "    .dataframe tbody tr th:only-of-type {\n",
       "        vertical-align: middle;\n",
       "    }\n",
       "\n",
       "    .dataframe tbody tr th {\n",
       "        vertical-align: top;\n",
       "    }\n",
       "\n",
       "    .dataframe thead th {\n",
       "        text-align: right;\n",
       "    }\n",
       "</style>\n",
       "<table border=\"1\" class=\"dataframe\">\n",
       "  <thead>\n",
       "    <tr style=\"text-align: right;\">\n",
       "      <th>Columns</th>\n",
       "      <th>Part Status</th>\n",
       "      <th>Customer Country</th>\n",
       "      <th>Customer POLE</th>\n",
       "      <th>Process_owner</th>\n",
       "      <th>Number of Warehouse</th>\n",
       "      <th>Number of returns</th>\n",
       "      <th>Number of Surplus</th>\n",
       "      <th>Number of Pole</th>\n",
       "      <th>Repair QTY</th>\n",
       "      <th>B_distances</th>\n",
       "    </tr>\n",
       "    <tr>\n",
       "      <th>Key_value</th>\n",
       "      <th></th>\n",
       "      <th></th>\n",
       "      <th></th>\n",
       "      <th></th>\n",
       "      <th></th>\n",
       "      <th></th>\n",
       "      <th></th>\n",
       "      <th></th>\n",
       "      <th></th>\n",
       "      <th></th>\n",
       "    </tr>\n",
       "  </thead>\n",
       "  <tbody>\n",
       "    <tr>\n",
       "      <th>601008043</th>\n",
       "      <td>Shipped to FE and Returned Good</td>\n",
       "      <td>IN</td>\n",
       "      <td>AS</td>\n",
       "      <td>R00&gt;A00&gt;A31&gt;SND&gt;A31&gt;SND&gt;A31</td>\n",
       "      <td>3</td>\n",
       "      <td>1</td>\n",
       "      <td>1</td>\n",
       "      <td>2</td>\n",
       "      <td>2</td>\n",
       "      <td>18116.0</td>\n",
       "    </tr>\n",
       "  </tbody>\n",
       "</table>\n",
       "</div>"
      ],
      "text/plain": [
       "Columns                        Part Status Customer Country Customer POLE  \\\n",
       "Key_value                                                                   \n",
       "601008043  Shipped to FE and Returned Good               IN            AS   \n",
       "\n",
       "Columns                  Process_owner Number of Warehouse Number of returns  \\\n",
       "Key_value                                                                      \n",
       "601008043  R00>A00>A31>SND>A31>SND>A31                   3                 1   \n",
       "\n",
       "Columns   Number of Surplus Number of Pole Repair QTY  B_distances  \n",
       "Key_value                                                           \n",
       "601008043                 1              2          2      18116.0  "
      ]
     },
     "execution_count": 355,
     "metadata": {},
     "output_type": "execute_result"
    }
   ],
   "source": [
    "data"
   ]
  },
  {
   "cell_type": "code",
   "execution_count": 356,
   "metadata": {},
   "outputs": [],
   "source": [
    "data['séjourWHS'] = collecter.sejour_WHS(folder_name)\n",
    "data['nb_Inout']=INOUT"
   ]
  },
  {
   "cell_type": "code",
   "execution_count": 357,
   "metadata": {},
   "outputs": [],
   "source": [
    "data['Repair_center'] = collecter.search_key('Vendor Name', 'repair history',folder_name)\n",
    "data['Repair_site_code'] = collecter.search_key('Vendor Site Code', 'repair history',folder_name)\n",
    "data['Repaire_qty'] = collecter.search_key('Repair QTY', 'Summary', folder_name)\n",
    "failure_type = collecter.get_failures(folder_name)\n",
    "data['failure_type'] = failure_type\n",
    "data['nb_FOA'] = collecter.failure_FOA(failure_type)\n",
    "data['FE_SSO'] = collecter.search_key('FE SSO', 'FE Returns summary',folder_name)\n",
    "data['SystemID'] = collecter.search_key('System ID','FE Returns summary',folder_name)\n",
    "data['Carrier'] = collecter.search_key('Freight Carrier', 'FE Returns summary',folder_name)\n",
    "data['SystemAge'] = collecter.system_age(folder_name)\n",
    "data['FE visited'] = data['FE_SSO'].apply(lambda x: len(x) if isinstance(x, list) else None)"
   ]
  },
  {
   "cell_type": "code",
   "execution_count": 358,
   "metadata": {},
   "outputs": [],
   "source": [
    "data.reset_index(inplace=True)"
   ]
  },
  {
   "cell_type": "code",
   "execution_count": 359,
   "metadata": {},
   "outputs": [
    {
     "data": {
      "text/html": [
       "<div>\n",
       "<style scoped>\n",
       "    .dataframe tbody tr th:only-of-type {\n",
       "        vertical-align: middle;\n",
       "    }\n",
       "\n",
       "    .dataframe tbody tr th {\n",
       "        vertical-align: top;\n",
       "    }\n",
       "\n",
       "    .dataframe thead th {\n",
       "        text-align: right;\n",
       "    }\n",
       "</style>\n",
       "<table border=\"1\" class=\"dataframe\">\n",
       "  <thead>\n",
       "    <tr style=\"text-align: right;\">\n",
       "      <th>Columns</th>\n",
       "      <th>Key_value</th>\n",
       "      <th>Part Status</th>\n",
       "      <th>Customer Country</th>\n",
       "      <th>Customer POLE</th>\n",
       "      <th>Process_owner</th>\n",
       "      <th>Number of Warehouse</th>\n",
       "      <th>Number of returns</th>\n",
       "      <th>Number of Surplus</th>\n",
       "      <th>Number of Pole</th>\n",
       "      <th>Repair QTY</th>\n",
       "      <th>...</th>\n",
       "      <th>Repair_center</th>\n",
       "      <th>Repair_site_code</th>\n",
       "      <th>Repaire_qty</th>\n",
       "      <th>failure_type</th>\n",
       "      <th>nb_FOA</th>\n",
       "      <th>FE_SSO</th>\n",
       "      <th>SystemID</th>\n",
       "      <th>Carrier</th>\n",
       "      <th>SystemAge</th>\n",
       "      <th>FE visited</th>\n",
       "    </tr>\n",
       "  </thead>\n",
       "  <tbody>\n",
       "    <tr>\n",
       "      <th>0</th>\n",
       "      <td>601008043</td>\n",
       "      <td>Shipped to FE and Returned Good</td>\n",
       "      <td>IN</td>\n",
       "      <td>AS</td>\n",
       "      <td>R00&gt;A00&gt;A31&gt;SND&gt;A31&gt;SND&gt;A31</td>\n",
       "      <td>3</td>\n",
       "      <td>1</td>\n",
       "      <td>1</td>\n",
       "      <td>2</td>\n",
       "      <td>2</td>\n",
       "      <td>...</td>\n",
       "      <td>[GE Healthcare Austria GmbH &amp; Co OG, GE Health...</td>\n",
       "      <td>[GPO ASIA    511, GPO ASIA    511]</td>\n",
       "      <td>2</td>\n",
       "      <td>[Debrief]</td>\n",
       "      <td>0</td>\n",
       "      <td>[999981010]</td>\n",
       "      <td>[83037845491721]</td>\n",
       "      <td>[Saami]</td>\n",
       "      <td>294.0</td>\n",
       "      <td>1</td>\n",
       "    </tr>\n",
       "  </tbody>\n",
       "</table>\n",
       "<p>1 rows × 23 columns</p>\n",
       "</div>"
      ],
      "text/plain": [
       "Columns  Key_value                      Part Status Customer Country  \\\n",
       "0        601008043  Shipped to FE and Returned Good               IN   \n",
       "\n",
       "Columns Customer POLE                Process_owner Number of Warehouse  \\\n",
       "0                  AS  R00>A00>A31>SND>A31>SND>A31                   3   \n",
       "\n",
       "Columns Number of returns Number of Surplus Number of Pole Repair QTY  ...  \\\n",
       "0                       1                 1              2          2  ...   \n",
       "\n",
       "Columns                                      Repair_center  \\\n",
       "0        [GE Healthcare Austria GmbH & Co OG, GE Health...   \n",
       "\n",
       "Columns                    Repair_site_code  Repaire_qty failure_type nb_FOA  \\\n",
       "0        [GPO ASIA    511, GPO ASIA    511]            2    [Debrief]      0   \n",
       "\n",
       "Columns       FE_SSO          SystemID  Carrier SystemAge FE visited  \n",
       "0        [999981010]  [83037845491721]  [Saami]     294.0          1  \n",
       "\n",
       "[1 rows x 23 columns]"
      ]
     },
     "execution_count": 359,
     "metadata": {},
     "output_type": "execute_result"
    }
   ],
   "source": [
    "data"
   ]
  },
  {
   "cell_type": "code",
   "execution_count": 360,
   "metadata": {},
   "outputs": [],
   "source": [
    "data2=collecter.analyse('Repair_center',data)\n"
   ]
  },
  {
   "cell_type": "code",
   "execution_count": 361,
   "metadata": {},
   "outputs": [
    {
     "data": {
      "text/html": [
       "<div>\n",
       "<style scoped>\n",
       "    .dataframe tbody tr th:only-of-type {\n",
       "        vertical-align: middle;\n",
       "    }\n",
       "\n",
       "    .dataframe tbody tr th {\n",
       "        vertical-align: top;\n",
       "    }\n",
       "\n",
       "    .dataframe thead th {\n",
       "        text-align: right;\n",
       "    }\n",
       "</style>\n",
       "<table border=\"1\" class=\"dataframe\">\n",
       "  <thead>\n",
       "    <tr style=\"text-align: right;\">\n",
       "      <th>Columns</th>\n",
       "      <th>Key_value</th>\n",
       "      <th>Part Status</th>\n",
       "      <th>Customer Country</th>\n",
       "      <th>Customer POLE</th>\n",
       "      <th>Process_owner</th>\n",
       "      <th>Number of Warehouse</th>\n",
       "      <th>Number of returns</th>\n",
       "      <th>Number of Surplus</th>\n",
       "      <th>Number of Pole</th>\n",
       "      <th>Repair QTY</th>\n",
       "      <th>...</th>\n",
       "      <th>Repair_site_code</th>\n",
       "      <th>Repaire_qty</th>\n",
       "      <th>failure_type</th>\n",
       "      <th>nb_FOA</th>\n",
       "      <th>FE_SSO</th>\n",
       "      <th>SystemID</th>\n",
       "      <th>Carrier</th>\n",
       "      <th>SystemAge</th>\n",
       "      <th>FE visited</th>\n",
       "      <th>GE Healthcare Austria GmbH &amp; Co OG</th>\n",
       "    </tr>\n",
       "  </thead>\n",
       "  <tbody>\n",
       "    <tr>\n",
       "      <th>0</th>\n",
       "      <td>601008043</td>\n",
       "      <td>Shipped to FE and Returned Good</td>\n",
       "      <td>IN</td>\n",
       "      <td>AS</td>\n",
       "      <td>R00&gt;A00&gt;A31&gt;SND&gt;A31&gt;SND&gt;A31</td>\n",
       "      <td>3</td>\n",
       "      <td>1</td>\n",
       "      <td>1</td>\n",
       "      <td>2</td>\n",
       "      <td>2</td>\n",
       "      <td>...</td>\n",
       "      <td>[GPO ASIA    511, GPO ASIA    511]</td>\n",
       "      <td>2</td>\n",
       "      <td>[Debrief]</td>\n",
       "      <td>0</td>\n",
       "      <td>[999981010]</td>\n",
       "      <td>[83037845491721]</td>\n",
       "      <td>[Saami]</td>\n",
       "      <td>294.0</td>\n",
       "      <td>1</td>\n",
       "      <td>2</td>\n",
       "    </tr>\n",
       "  </tbody>\n",
       "</table>\n",
       "<p>1 rows × 24 columns</p>\n",
       "</div>"
      ],
      "text/plain": [
       "Columns  Key_value                      Part Status Customer Country  \\\n",
       "0        601008043  Shipped to FE and Returned Good               IN   \n",
       "\n",
       "Columns Customer POLE                Process_owner Number of Warehouse  \\\n",
       "0                  AS  R00>A00>A31>SND>A31>SND>A31                   3   \n",
       "\n",
       "Columns Number of returns Number of Surplus Number of Pole Repair QTY  ...  \\\n",
       "0                       1                 1              2          2  ...   \n",
       "\n",
       "Columns                    Repair_site_code Repaire_qty  failure_type nb_FOA  \\\n",
       "0        [GPO ASIA    511, GPO ASIA    511]           2     [Debrief]      0   \n",
       "\n",
       "Columns       FE_SSO          SystemID  Carrier  SystemAge FE visited  \\\n",
       "0        [999981010]  [83037845491721]  [Saami]      294.0          1   \n",
       "\n",
       "Columns GE Healthcare Austria GmbH & Co OG  \n",
       "0                                        2  \n",
       "\n",
       "[1 rows x 24 columns]"
      ]
     },
     "execution_count": 361,
     "metadata": {},
     "output_type": "execute_result"
    }
   ],
   "source": [
    "data2"
   ]
  },
  {
   "cell_type": "code",
   "execution_count": 362,
   "metadata": {},
   "outputs": [],
   "source": [
    "data3 = collecter.analyse('Repair_site_code', data2)"
   ]
  },
  {
   "cell_type": "code",
   "execution_count": 363,
   "metadata": {},
   "outputs": [],
   "source": [
    "data4=collecter.analyse('Carrier', data3)"
   ]
  },
  {
   "cell_type": "code",
   "execution_count": 364,
   "metadata": {},
   "outputs": [
    {
     "data": {
      "text/plain": [
       "Index(['Key_value', 'Part Status', 'Customer Country', 'Customer POLE',\n",
       "       'Process_owner', 'Number of Warehouse', 'Number of returns',\n",
       "       'Number of Surplus', 'Number of Pole', 'Repair QTY', 'B_distances',\n",
       "       'séjourWHS', 'nb_Inout', 'Repair_center', 'Repair_site_code',\n",
       "       'Repaire_qty', 'failure_type', 'nb_FOA', 'FE_SSO', 'SystemID',\n",
       "       'Carrier', 'SystemAge', 'FE visited',\n",
       "       'GE Healthcare Austria GmbH & Co OG', 'GPO ASIA    511', 'Saami'],\n",
       "      dtype='object', name='Columns')"
      ]
     },
     "execution_count": 364,
     "metadata": {},
     "output_type": "execute_result"
    }
   ],
   "source": [
    "data4.columns"
   ]
  },
  {
   "cell_type": "code",
   "execution_count": 365,
   "metadata": {},
   "outputs": [
    {
     "data": {
      "text/plain": [
       "{'A00': 14, 'A31': 14, 'R00': 9, 'SND': 28}"
      ]
     },
     "execution_count": 365,
     "metadata": {},
     "output_type": "execute_result"
    }
   ],
   "source": [
    "data4['séjourWHS'][0][0]"
   ]
  },
  {
   "cell_type": "code",
   "execution_count": 366,
   "metadata": {},
   "outputs": [],
   "source": [
    "def whs_transformer(data):\n",
    "    dict = data['séjourWHS'][0][0]\n",
    "    data['max_whs']=max(dict, key=dict.get)\n",
    "    data['max_whs_jours']=max(dict.values())\n",
    "\n",
    "    data['min_whs']=min(dict, key=dict.get)\n",
    "    data['min_whs_jours']=min(dict.values())\n",
    "\n",
    "    data['median_whs']=sorted(dict, key=lambda x: x[1])[int(len(dict)/2)]\n",
    "    data['median_whs_jours']=sorted(dict.values())[int(len(dict)/2)]\n",
    "\n",
    "    return data"
   ]
  },
  {
   "cell_type": "code",
   "execution_count": 367,
   "metadata": {},
   "outputs": [],
   "source": [
    "data5 = whs_transformer(data4)"
   ]
  },
  {
   "cell_type": "code",
   "execution_count": 368,
   "metadata": {},
   "outputs": [
    {
     "data": {
      "text/html": [
       "<div>\n",
       "<style scoped>\n",
       "    .dataframe tbody tr th:only-of-type {\n",
       "        vertical-align: middle;\n",
       "    }\n",
       "\n",
       "    .dataframe tbody tr th {\n",
       "        vertical-align: top;\n",
       "    }\n",
       "\n",
       "    .dataframe thead th {\n",
       "        text-align: right;\n",
       "    }\n",
       "</style>\n",
       "<table border=\"1\" class=\"dataframe\">\n",
       "  <thead>\n",
       "    <tr style=\"text-align: right;\">\n",
       "      <th>Columns</th>\n",
       "      <th>Key_value</th>\n",
       "      <th>Part Status</th>\n",
       "      <th>Customer Country</th>\n",
       "      <th>Customer POLE</th>\n",
       "      <th>Process_owner</th>\n",
       "      <th>Number of Warehouse</th>\n",
       "      <th>Number of returns</th>\n",
       "      <th>Number of Surplus</th>\n",
       "      <th>Number of Pole</th>\n",
       "      <th>Repair QTY</th>\n",
       "      <th>...</th>\n",
       "      <th>FE visited</th>\n",
       "      <th>GE Healthcare Austria GmbH &amp; Co OG</th>\n",
       "      <th>GPO ASIA    511</th>\n",
       "      <th>Saami</th>\n",
       "      <th>max_whs</th>\n",
       "      <th>max_whs_jours</th>\n",
       "      <th>min_whs</th>\n",
       "      <th>min_whs_jours</th>\n",
       "      <th>median_whs</th>\n",
       "      <th>median_whs_jours</th>\n",
       "    </tr>\n",
       "  </thead>\n",
       "  <tbody>\n",
       "    <tr>\n",
       "      <th>0</th>\n",
       "      <td>601008043</td>\n",
       "      <td>Shipped to FE and Returned Good</td>\n",
       "      <td>IN</td>\n",
       "      <td>AS</td>\n",
       "      <td>R00&gt;A00&gt;A31&gt;SND&gt;A31&gt;SND&gt;A31</td>\n",
       "      <td>3</td>\n",
       "      <td>1</td>\n",
       "      <td>1</td>\n",
       "      <td>2</td>\n",
       "      <td>2</td>\n",
       "      <td>...</td>\n",
       "      <td>1</td>\n",
       "      <td>2</td>\n",
       "      <td>2</td>\n",
       "      <td>1</td>\n",
       "      <td>SND</td>\n",
       "      <td>28</td>\n",
       "      <td>R00</td>\n",
       "      <td>9</td>\n",
       "      <td>A31</td>\n",
       "      <td>14</td>\n",
       "    </tr>\n",
       "  </tbody>\n",
       "</table>\n",
       "<p>1 rows × 32 columns</p>\n",
       "</div>"
      ],
      "text/plain": [
       "Columns  Key_value                      Part Status Customer Country  \\\n",
       "0        601008043  Shipped to FE and Returned Good               IN   \n",
       "\n",
       "Columns Customer POLE                Process_owner Number of Warehouse  \\\n",
       "0                  AS  R00>A00>A31>SND>A31>SND>A31                   3   \n",
       "\n",
       "Columns Number of returns Number of Surplus Number of Pole Repair QTY  ...  \\\n",
       "0                       1                 1              2          2  ...   \n",
       "\n",
       "Columns  FE visited GE Healthcare Austria GmbH & Co OG  GPO ASIA    511 Saami  \\\n",
       "0                 1                                  2                2     1   \n",
       "\n",
       "Columns max_whs  max_whs_jours min_whs  min_whs_jours median_whs  \\\n",
       "0           SND             28     R00              9        A31   \n",
       "\n",
       "Columns median_whs_jours  \n",
       "0                     14  \n",
       "\n",
       "[1 rows x 32 columns]"
      ]
     },
     "execution_count": 368,
     "metadata": {},
     "output_type": "execute_result"
    }
   ],
   "source": [
    "data5"
   ]
  },
  {
   "cell_type": "code",
   "execution_count": 369,
   "metadata": {},
   "outputs": [],
   "source": [
    "def FE_exp(data):\n",
    "    df_SSO = pd.read_excel('../FE_data/GE HealthCare Employees 2023-05-27.xlsx', sheet_name='Active')\n",
    "    df_date_embauche = df_SSO[['FE_SSO', 'Exp']]\n",
    "    # df_date_embauche.set_index('Employee ID',inplace=True)\n",
    "    df_FE = data[['FE_SSO']]\n",
    "    df_FE['FE_SSO']=df_FE['FE_SSO'].astype(str)\n",
    "    df_FE['FE_SSO']=df_FE['FE_SSO'].apply(lambda x: x.strip('][').split(', '))\n",
    "    df_FE = df_FE.explode('FE_SSO')\n",
    "    df_FE['FE_SSO']=df_FE['FE_SSO'].apply(lambda x: x[:-2] if x.endswith('.0') else x)\n",
    "    df_date_embauche['FE_SSO']=df_date_embauche['FE_SSO'].astype(str)\n",
    "    df_merged_exp = df_FE.merge(df_date_embauche, on='FE_SSO', how = 'left')\n",
    "    df_merged_exp.set_index(df_FE.index,inplace = True)\n",
    "    df_merged_exp.dropna(subset= ['Exp'],inplace=True)\n",
    "    df_average_exp = df_merged_exp.groupby(level=0)['Exp'].mean()\n",
    "    data['FE_exp']=df_average_exp\n",
    "    return data"
   ]
  },
  {
   "cell_type": "code",
   "execution_count": 370,
   "metadata": {},
   "outputs": [],
   "source": [
    "data6=FE_exp(data5)\n",
    "cols_drop = ['Part Status','Process_owner','Repair QTY','séjourWHS','Repair_center','Repair_site_code',\n",
    "                'failure_type',  'FE_SSO', 'SystemID', 'Carrier']\n",
    "for i in data6.columns.tolist():\n",
    "    if 'Unnamed' in str(i):\n",
    "        cols_drop.append(i)\n",
    "    if 'Key_value' in str(i):\n",
    "        cols_drop.append(i)\n",
    "    if 'Columns' in str(i):\n",
    "        cols_drop.append(i)\n",
    "data6.drop(columns=cols_drop, inplace=True)"
   ]
  },
  {
   "cell_type": "code",
   "execution_count": 372,
   "metadata": {},
   "outputs": [
    {
     "data": {
      "text/html": [
       "<div>\n",
       "<style scoped>\n",
       "    .dataframe tbody tr th:only-of-type {\n",
       "        vertical-align: middle;\n",
       "    }\n",
       "\n",
       "    .dataframe tbody tr th {\n",
       "        vertical-align: top;\n",
       "    }\n",
       "\n",
       "    .dataframe thead th {\n",
       "        text-align: right;\n",
       "    }\n",
       "</style>\n",
       "<table border=\"1\" class=\"dataframe\">\n",
       "  <thead>\n",
       "    <tr style=\"text-align: right;\">\n",
       "      <th>Columns</th>\n",
       "      <th>Customer Country</th>\n",
       "      <th>Customer POLE</th>\n",
       "      <th>Number of Warehouse</th>\n",
       "      <th>Number of returns</th>\n",
       "      <th>Number of Surplus</th>\n",
       "      <th>Number of Pole</th>\n",
       "      <th>B_distances</th>\n",
       "      <th>nb_Inout</th>\n",
       "      <th>Repaire_qty</th>\n",
       "      <th>nb_FOA</th>\n",
       "      <th>...</th>\n",
       "      <th>GE Healthcare Austria GmbH &amp; Co OG</th>\n",
       "      <th>GPO ASIA    511</th>\n",
       "      <th>Saami</th>\n",
       "      <th>max_whs</th>\n",
       "      <th>max_whs_jours</th>\n",
       "      <th>min_whs</th>\n",
       "      <th>min_whs_jours</th>\n",
       "      <th>median_whs</th>\n",
       "      <th>median_whs_jours</th>\n",
       "      <th>FE_exp</th>\n",
       "    </tr>\n",
       "  </thead>\n",
       "  <tbody>\n",
       "    <tr>\n",
       "      <th>0</th>\n",
       "      <td>IN</td>\n",
       "      <td>AS</td>\n",
       "      <td>3</td>\n",
       "      <td>1</td>\n",
       "      <td>1</td>\n",
       "      <td>2</td>\n",
       "      <td>18116.0</td>\n",
       "      <td>6</td>\n",
       "      <td>2</td>\n",
       "      <td>0</td>\n",
       "      <td>...</td>\n",
       "      <td>2</td>\n",
       "      <td>2</td>\n",
       "      <td>1</td>\n",
       "      <td>SND</td>\n",
       "      <td>28</td>\n",
       "      <td>R00</td>\n",
       "      <td>9</td>\n",
       "      <td>A31</td>\n",
       "      <td>14</td>\n",
       "      <td>NaN</td>\n",
       "    </tr>\n",
       "  </tbody>\n",
       "</table>\n",
       "<p>1 rows × 22 columns</p>\n",
       "</div>"
      ],
      "text/plain": [
       "Columns Customer Country Customer POLE Number of Warehouse Number of returns  \\\n",
       "0                     IN            AS                   3                 1   \n",
       "\n",
       "Columns Number of Surplus Number of Pole  B_distances  nb_Inout  Repaire_qty  \\\n",
       "0                       1              2      18116.0         6            2   \n",
       "\n",
       "Columns  nb_FOA  ...  GE Healthcare Austria GmbH & Co OG  GPO ASIA    511  \\\n",
       "0             0  ...                                   2                2   \n",
       "\n",
       "Columns Saami max_whs max_whs_jours min_whs  min_whs_jours median_whs  \\\n",
       "0           1     SND            28     R00              9        A31   \n",
       "\n",
       "Columns  median_whs_jours FE_exp  \n",
       "0                      14    NaN  \n",
       "\n",
       "[1 rows x 22 columns]"
      ]
     },
     "execution_count": 372,
     "metadata": {},
     "output_type": "execute_result"
    }
   ],
   "source": [
    "data6"
   ]
  },
  {
   "cell_type": "code",
   "execution_count": 373,
   "metadata": {},
   "outputs": [],
   "source": [
    "test = data6"
   ]
  },
  {
   "cell_type": "code",
   "execution_count": 374,
   "metadata": {},
   "outputs": [],
   "source": [
    "def encoder_ref(name, col, data):\n",
    "    ref = pd.read_excel(f'../Label_Encoders/label_encoders_{name}.xlsx')\n",
    "    for colonne in col:\n",
    "        tofind = data.loc[0,colonne]\n",
    "        i=0\n",
    "        for elem in ref[colonne].tolist():\n",
    "            # print(elem, tofind)\n",
    "            if elem == tofind:\n",
    "                found = i\n",
    "                data[colonne]=found\n",
    "                break\n",
    "            i=i+1\n",
    "    \n",
    "    return data"
   ]
  },
  {
   "cell_type": "code",
   "execution_count": 375,
   "metadata": {},
   "outputs": [
    {
     "name": "stdout",
     "output_type": "stream",
     "text": [
      "AU IN\n",
      "BD IN\n",
      "BR IN\n",
      "CA IN\n",
      "ES IN\n",
      "FR IN\n",
      "GB IN\n",
      "HR IN\n",
      "ID IN\n",
      "IN IN\n",
      "AM AS\n",
      "AS AS\n",
      "A00 SND\n",
      "A09 SND\n",
      "A11 SND\n",
      "A21 SND\n",
      "A30 SND\n",
      "A31 SND\n",
      "A32 SND\n",
      "A36 SND\n",
      "A37 SND\n",
      "A38 SND\n",
      "R00 SND\n",
      "R12 SND\n",
      "R13 SND\n",
      "R35 SND\n",
      "R40 SND\n",
      "SAE SND\n",
      "SAS SND\n",
      "SAU SND\n",
      "SBE SND\n",
      "SCA SND\n",
      "SCH SND\n",
      "SDE SND\n",
      "SES SND\n",
      "SFR SND\n",
      "SGB SND\n",
      "SGR SND\n",
      "SID SND\n",
      "SIT SND\n",
      "SJP SND\n",
      "SKR SND\n",
      "SND SND\n",
      "A00 R00\n",
      "A05 R00\n",
      "A09 R00\n",
      "A11 R00\n",
      "A21 R00\n",
      "A31 R00\n",
      "A32 R00\n",
      "A36 R00\n",
      "A37 R00\n",
      "A38 R00\n",
      "R00 R00\n",
      "A11 A31\n",
      "A14 A31\n",
      "A21 A31\n",
      "A30 A31\n",
      "A31 A31\n"
     ]
    }
   ],
   "source": [
    "data6 = encoder_ref('Probe', ['Customer Country', 'Customer POLE','max_whs', 'min_whs', 'median_whs'], data6)"
   ]
  },
  {
   "cell_type": "code",
   "execution_count": null,
   "metadata": {},
   "outputs": [],
   "source": []
  },
  {
   "cell_type": "code",
   "execution_count": 382,
   "metadata": {},
   "outputs": [],
   "source": [
    "template = pd.read_excel('template.xlsx')\n",
    "final = pd.concat([template, data6])\n",
    "final.fillna(0,inplace=True)\n",
    "final.to_excel('kjkj.xlsx')"
   ]
  },
  {
   "cell_type": "code",
   "execution_count": 381,
   "metadata": {},
   "outputs": [
    {
     "data": {
      "text/html": [
       "<div>\n",
       "<style scoped>\n",
       "    .dataframe tbody tr th:only-of-type {\n",
       "        vertical-align: middle;\n",
       "    }\n",
       "\n",
       "    .dataframe tbody tr th {\n",
       "        vertical-align: top;\n",
       "    }\n",
       "\n",
       "    .dataframe thead th {\n",
       "        text-align: right;\n",
       "    }\n",
       "</style>\n",
       "<table border=\"1\" class=\"dataframe\">\n",
       "  <thead>\n",
       "    <tr style=\"text-align: right;\">\n",
       "      <th>Columns</th>\n",
       "      <th>Customer Country</th>\n",
       "      <th>Customer POLE</th>\n",
       "      <th>Number of Warehouse</th>\n",
       "      <th>Number of returns</th>\n",
       "      <th>Number of Surplus</th>\n",
       "      <th>Number of Pole</th>\n",
       "      <th>B_distances</th>\n",
       "      <th>nb_Inout</th>\n",
       "      <th>Repaire_qty</th>\n",
       "      <th>nb_FOA</th>\n",
       "      <th>...</th>\n",
       "      <th>median_whs_jours</th>\n",
       "      <th>FE_exp</th>\n",
       "      <th>failed_part_description</th>\n",
       "      <th>failed_part_item_type</th>\n",
       "      <th>product_group</th>\n",
       "      <th>product_identifier</th>\n",
       "      <th>family_name</th>\n",
       "      <th>Activity_Month_Close_Date</th>\n",
       "      <th>region_description</th>\n",
       "      <th>goldseal_flag</th>\n",
       "    </tr>\n",
       "  </thead>\n",
       "  <tbody>\n",
       "    <tr>\n",
       "      <th>0</th>\n",
       "      <td>9</td>\n",
       "      <td>1</td>\n",
       "      <td>3</td>\n",
       "      <td>1</td>\n",
       "      <td>1</td>\n",
       "      <td>2</td>\n",
       "      <td>18116.0</td>\n",
       "      <td>6</td>\n",
       "      <td>2</td>\n",
       "      <td>0</td>\n",
       "      <td>...</td>\n",
       "      <td>14</td>\n",
       "      <td>0.0</td>\n",
       "      <td>3</td>\n",
       "      <td>2</td>\n",
       "      <td>1</td>\n",
       "      <td>3</td>\n",
       "      <td>1</td>\n",
       "      <td>2</td>\n",
       "      <td>1</td>\n",
       "      <td>1</td>\n",
       "    </tr>\n",
       "  </tbody>\n",
       "</table>\n",
       "<p>1 rows × 30 columns</p>\n",
       "</div>"
      ],
      "text/plain": [
       "Columns  Customer Country  Customer POLE  Number of Warehouse  \\\n",
       "0                       9              1                    3   \n",
       "\n",
       "Columns  Number of returns  Number of Surplus  Number of Pole  B_distances  \\\n",
       "0                        1                  1               2      18116.0   \n",
       "\n",
       "Columns  nb_Inout  Repaire_qty  nb_FOA  ...  median_whs_jours  FE_exp  \\\n",
       "0               6            2       0  ...                14     0.0   \n",
       "\n",
       "Columns  failed_part_description  failed_part_item_type  product_group  \\\n",
       "0                              3                      2              1   \n",
       "\n",
       "Columns  product_identifier  family_name  Activity_Month_Close_Date  \\\n",
       "0                         3            1                          2   \n",
       "\n",
       "Columns  region_description  goldseal_flag  \n",
       "0                         1              1  \n",
       "\n",
       "[1 rows x 30 columns]"
      ]
     },
     "execution_count": 381,
     "metadata": {},
     "output_type": "execute_result"
    }
   ],
   "source": [
    "cols = ['failed_part_description','failed_part_item_type','product_group','product_identifier',\n",
    "        'family_name','Activity_Month_Close_Date','region_description',\t'goldseal_flag']\n",
    "for col in cols:\n",
    "    data6.loc[0,col]=int(input(f'{col}:'))\n",
    "    \n",
    "data6.fillna(0)\n"
   ]
  },
  {
   "cell_type": "code",
   "execution_count": 386,
   "metadata": {},
   "outputs": [
    {
     "name": "stdout",
     "output_type": "stream",
     "text": [
      "0    2.0\n",
      "Name: failed_part_description, dtype: float64\n",
      "0    2.0\n",
      "Name: failed_part_item_type, dtype: float64\n",
      "0    2.0\n",
      "Name: product_group, dtype: float64\n",
      "0    2.0\n",
      "Name: product_identifier, dtype: float64\n",
      "0    2.0\n",
      "Name: family_name, dtype: float64\n",
      "0    2.0\n",
      "Name: Activity_Month_Close_Date, dtype: float64\n",
      "0    2.0\n",
      "Name: region_description, dtype: float64\n",
      "0    2.0\n",
      "Name: goldseal_flag, dtype: float64\n"
     ]
    },
    {
     "data": {
      "text/html": [
       "<div>\n",
       "<style scoped>\n",
       "    .dataframe tbody tr th:only-of-type {\n",
       "        vertical-align: middle;\n",
       "    }\n",
       "\n",
       "    .dataframe tbody tr th {\n",
       "        vertical-align: top;\n",
       "    }\n",
       "\n",
       "    .dataframe thead th {\n",
       "        text-align: right;\n",
       "    }\n",
       "</style>\n",
       "<table border=\"1\" class=\"dataframe\">\n",
       "  <thead>\n",
       "    <tr style=\"text-align: right;\">\n",
       "      <th></th>\n",
       "      <th>failed_part_description</th>\n",
       "      <th>failed_part_item_type</th>\n",
       "      <th>product_group</th>\n",
       "      <th>product_identifier</th>\n",
       "      <th>family_name</th>\n",
       "      <th>Activity_Month_Close_Date</th>\n",
       "      <th>region_description</th>\n",
       "      <th>goldseal_flag</th>\n",
       "    </tr>\n",
       "  </thead>\n",
       "  <tbody>\n",
       "    <tr>\n",
       "      <th>0</th>\n",
       "      <td>2.0</td>\n",
       "      <td>2.0</td>\n",
       "      <td>2.0</td>\n",
       "      <td>2.0</td>\n",
       "      <td>2.0</td>\n",
       "      <td>2.0</td>\n",
       "      <td>2.0</td>\n",
       "      <td>2.0</td>\n",
       "    </tr>\n",
       "  </tbody>\n",
       "</table>\n",
       "</div>"
      ],
      "text/plain": [
       "   failed_part_description  failed_part_item_type  product_group  \\\n",
       "0                      2.0                    2.0            2.0   \n",
       "\n",
       "   product_identifier  family_name  Activity_Month_Close_Date  \\\n",
       "0                 2.0          2.0                        2.0   \n",
       "\n",
       "   region_description  goldseal_flag  \n",
       "0                 2.0            2.0  "
      ]
     },
     "execution_count": 386,
     "metadata": {},
     "output_type": "execute_result"
    }
   ],
   "source": [
    "def generate_prime(features):\n",
    "    test_prime = pd.DataFrame()\n",
    "    for col in features:\n",
    "        test_prime.loc[0,col]=float(input(f'{col}:'))\n",
    "        print(test_prime[col])\n",
    "    return test_prime\n",
    "\n",
    "generate_prime(cols)"
   ]
  },
  {
   "cell_type": "code",
   "execution_count": 144,
   "metadata": {},
   "outputs": [
    {
     "ename": "KeyError",
     "evalue": "1",
     "output_type": "error",
     "traceback": [
      "\u001b[1;31m---------------------------------------------------------------------------\u001b[0m",
      "\u001b[1;31mValueError\u001b[0m                                Traceback (most recent call last)",
      "File \u001b[1;32mc:\\Users\\223102584\\AppData\\Local\\anaconda3\\lib\\site-packages\\pandas\\core\\indexes\\range.py:391\u001b[0m, in \u001b[0;36mRangeIndex.get_loc\u001b[1;34m(self, key, method, tolerance)\u001b[0m\n\u001b[0;32m    390\u001b[0m \u001b[39mtry\u001b[39;00m:\n\u001b[1;32m--> 391\u001b[0m     \u001b[39mreturn\u001b[39;00m \u001b[39mself\u001b[39;49m\u001b[39m.\u001b[39;49m_range\u001b[39m.\u001b[39;49mindex(new_key)\n\u001b[0;32m    392\u001b[0m \u001b[39mexcept\u001b[39;00m \u001b[39mValueError\u001b[39;00m \u001b[39mas\u001b[39;00m err:\n",
      "\u001b[1;31mValueError\u001b[0m: 1 is not in range",
      "\nThe above exception was the direct cause of the following exception:\n",
      "\u001b[1;31mKeyError\u001b[0m                                  Traceback (most recent call last)",
      "Cell \u001b[1;32mIn[144], line 2\u001b[0m\n\u001b[0;32m      1\u001b[0m random_test \u001b[39m=\u001b[39m np\u001b[39m.\u001b[39mrandom\u001b[39m.\u001b[39mrand(\u001b[39m1\u001b[39m,\u001b[39m60\u001b[39m)\n\u001b[1;32m----> 2\u001b[0m data_test \u001b[39m=\u001b[39m data\u001b[39m.\u001b[39;49mloc[\u001b[39m1\u001b[39;49m]\u001b[39m.\u001b[39mvalues\n\u001b[0;32m      3\u001b[0m data_test \u001b[39m=\u001b[39m np\u001b[39m.\u001b[39mreshape(data_test, (\u001b[39m-\u001b[39m\u001b[39m1\u001b[39m,\u001b[39m60\u001b[39m))\n\u001b[0;32m      4\u001b[0m \u001b[39mprint\u001b[39m(data_test\u001b[39m.\u001b[39mshape)\n",
      "File \u001b[1;32mc:\\Users\\223102584\\AppData\\Local\\anaconda3\\lib\\site-packages\\pandas\\core\\indexing.py:1073\u001b[0m, in \u001b[0;36m_LocationIndexer.__getitem__\u001b[1;34m(self, key)\u001b[0m\n\u001b[0;32m   1070\u001b[0m axis \u001b[39m=\u001b[39m \u001b[39mself\u001b[39m\u001b[39m.\u001b[39maxis \u001b[39mor\u001b[39;00m \u001b[39m0\u001b[39m\n\u001b[0;32m   1072\u001b[0m maybe_callable \u001b[39m=\u001b[39m com\u001b[39m.\u001b[39mapply_if_callable(key, \u001b[39mself\u001b[39m\u001b[39m.\u001b[39mobj)\n\u001b[1;32m-> 1073\u001b[0m \u001b[39mreturn\u001b[39;00m \u001b[39mself\u001b[39;49m\u001b[39m.\u001b[39;49m_getitem_axis(maybe_callable, axis\u001b[39m=\u001b[39;49maxis)\n",
      "File \u001b[1;32mc:\\Users\\223102584\\AppData\\Local\\anaconda3\\lib\\site-packages\\pandas\\core\\indexing.py:1312\u001b[0m, in \u001b[0;36m_LocIndexer._getitem_axis\u001b[1;34m(self, key, axis)\u001b[0m\n\u001b[0;32m   1310\u001b[0m \u001b[39m# fall thru to straight lookup\u001b[39;00m\n\u001b[0;32m   1311\u001b[0m \u001b[39mself\u001b[39m\u001b[39m.\u001b[39m_validate_key(key, axis)\n\u001b[1;32m-> 1312\u001b[0m \u001b[39mreturn\u001b[39;00m \u001b[39mself\u001b[39;49m\u001b[39m.\u001b[39;49m_get_label(key, axis\u001b[39m=\u001b[39;49maxis)\n",
      "File \u001b[1;32mc:\\Users\\223102584\\AppData\\Local\\anaconda3\\lib\\site-packages\\pandas\\core\\indexing.py:1260\u001b[0m, in \u001b[0;36m_LocIndexer._get_label\u001b[1;34m(self, label, axis)\u001b[0m\n\u001b[0;32m   1258\u001b[0m \u001b[39mdef\u001b[39;00m \u001b[39m_get_label\u001b[39m(\u001b[39mself\u001b[39m, label, axis: \u001b[39mint\u001b[39m):\n\u001b[0;32m   1259\u001b[0m     \u001b[39m# GH#5567 this will fail if the label is not present in the axis.\u001b[39;00m\n\u001b[1;32m-> 1260\u001b[0m     \u001b[39mreturn\u001b[39;00m \u001b[39mself\u001b[39;49m\u001b[39m.\u001b[39;49mobj\u001b[39m.\u001b[39;49mxs(label, axis\u001b[39m=\u001b[39;49maxis)\n",
      "File \u001b[1;32mc:\\Users\\223102584\\AppData\\Local\\anaconda3\\lib\\site-packages\\pandas\\core\\generic.py:4056\u001b[0m, in \u001b[0;36mNDFrame.xs\u001b[1;34m(self, key, axis, level, drop_level)\u001b[0m\n\u001b[0;32m   4054\u001b[0m             new_index \u001b[39m=\u001b[39m index[loc]\n\u001b[0;32m   4055\u001b[0m \u001b[39melse\u001b[39;00m:\n\u001b[1;32m-> 4056\u001b[0m     loc \u001b[39m=\u001b[39m index\u001b[39m.\u001b[39;49mget_loc(key)\n\u001b[0;32m   4058\u001b[0m     \u001b[39mif\u001b[39;00m \u001b[39misinstance\u001b[39m(loc, np\u001b[39m.\u001b[39mndarray):\n\u001b[0;32m   4059\u001b[0m         \u001b[39mif\u001b[39;00m loc\u001b[39m.\u001b[39mdtype \u001b[39m==\u001b[39m np\u001b[39m.\u001b[39mbool_:\n",
      "File \u001b[1;32mc:\\Users\\223102584\\AppData\\Local\\anaconda3\\lib\\site-packages\\pandas\\core\\indexes\\range.py:393\u001b[0m, in \u001b[0;36mRangeIndex.get_loc\u001b[1;34m(self, key, method, tolerance)\u001b[0m\n\u001b[0;32m    391\u001b[0m         \u001b[39mreturn\u001b[39;00m \u001b[39mself\u001b[39m\u001b[39m.\u001b[39m_range\u001b[39m.\u001b[39mindex(new_key)\n\u001b[0;32m    392\u001b[0m     \u001b[39mexcept\u001b[39;00m \u001b[39mValueError\u001b[39;00m \u001b[39mas\u001b[39;00m err:\n\u001b[1;32m--> 393\u001b[0m         \u001b[39mraise\u001b[39;00m \u001b[39mKeyError\u001b[39;00m(key) \u001b[39mfrom\u001b[39;00m \u001b[39merr\u001b[39;00m\n\u001b[0;32m    394\u001b[0m \u001b[39mself\u001b[39m\u001b[39m.\u001b[39m_check_indexing_error(key)\n\u001b[0;32m    395\u001b[0m \u001b[39mraise\u001b[39;00m \u001b[39mKeyError\u001b[39;00m(key)\n",
      "\u001b[1;31mKeyError\u001b[0m: 1"
     ]
    }
   ],
   "source": [
    "random_test = np.random.rand(1,60)\n",
    "data_test = data.loc[1].values\n",
    "data_test = np.reshape(data_test, (-1,60))\n",
    "print(data_test.shape)\n",
    "RES = clf.predict_proba(data_test)"
   ]
  },
  {
   "cell_type": "code",
   "execution_count": 31,
   "metadata": {},
   "outputs": [
    {
     "data": {
      "text/plain": [
       "(1, 3)"
      ]
     },
     "execution_count": 31,
     "metadata": {},
     "output_type": "execute_result"
    }
   ],
   "source": [
    "RES.shape"
   ]
  },
  {
   "cell_type": "code",
   "execution_count": 36,
   "metadata": {},
   "outputs": [
    {
     "data": {
      "text/plain": [
       "0.96"
      ]
     },
     "execution_count": 36,
     "metadata": {},
     "output_type": "execute_result"
    }
   ],
   "source": [
    "float(RES[:,2])"
   ]
  },
  {
   "cell_type": "code",
   "execution_count": 1,
   "metadata": {},
   "outputs": [],
   "source": [
    "import pandas as pd\n",
    "from prediction_tool import data_sampling,data_sampling2,prepareData,randomForest"
   ]
  },
  {
   "cell_type": "code",
   "execution_count": 2,
   "metadata": {},
   "outputs": [
    {
     "name": "stdout",
     "output_type": "stream",
     "text": [
      "We have  746 parts 45  FOAs among them.\n"
     ]
    }
   ],
   "source": [
    "data = pd.read_excel('../Probe/Avant_cluster2023-07-12_ALL.xlsx')\n",
    "data, labels, data_labeled, FOA_label = prepareData('../Probe/Avant_cluster2023-07-12_ALL.xlsx')"
   ]
  },
  {
   "cell_type": "code",
   "execution_count": 3,
   "metadata": {},
   "outputs": [
    {
     "name": "stdout",
     "output_type": "stream",
     "text": [
      "Accuracy of prediction:  95.65 %\n"
     ]
    },
    {
     "data": {
      "text/html": [
       "<style>#sk-container-id-1 {color: black;background-color: white;}#sk-container-id-1 pre{padding: 0;}#sk-container-id-1 div.sk-toggleable {background-color: white;}#sk-container-id-1 label.sk-toggleable__label {cursor: pointer;display: block;width: 100%;margin-bottom: 0;padding: 0.3em;box-sizing: border-box;text-align: center;}#sk-container-id-1 label.sk-toggleable__label-arrow:before {content: \"▸\";float: left;margin-right: 0.25em;color: #696969;}#sk-container-id-1 label.sk-toggleable__label-arrow:hover:before {color: black;}#sk-container-id-1 div.sk-estimator:hover label.sk-toggleable__label-arrow:before {color: black;}#sk-container-id-1 div.sk-toggleable__content {max-height: 0;max-width: 0;overflow: hidden;text-align: left;background-color: #f0f8ff;}#sk-container-id-1 div.sk-toggleable__content pre {margin: 0.2em;color: black;border-radius: 0.25em;background-color: #f0f8ff;}#sk-container-id-1 input.sk-toggleable__control:checked~div.sk-toggleable__content {max-height: 200px;max-width: 100%;overflow: auto;}#sk-container-id-1 input.sk-toggleable__control:checked~label.sk-toggleable__label-arrow:before {content: \"▾\";}#sk-container-id-1 div.sk-estimator input.sk-toggleable__control:checked~label.sk-toggleable__label {background-color: #d4ebff;}#sk-container-id-1 div.sk-label input.sk-toggleable__control:checked~label.sk-toggleable__label {background-color: #d4ebff;}#sk-container-id-1 input.sk-hidden--visually {border: 0;clip: rect(1px 1px 1px 1px);clip: rect(1px, 1px, 1px, 1px);height: 1px;margin: -1px;overflow: hidden;padding: 0;position: absolute;width: 1px;}#sk-container-id-1 div.sk-estimator {font-family: monospace;background-color: #f0f8ff;border: 1px dotted black;border-radius: 0.25em;box-sizing: border-box;margin-bottom: 0.5em;}#sk-container-id-1 div.sk-estimator:hover {background-color: #d4ebff;}#sk-container-id-1 div.sk-parallel-item::after {content: \"\";width: 100%;border-bottom: 1px solid gray;flex-grow: 1;}#sk-container-id-1 div.sk-label:hover label.sk-toggleable__label {background-color: #d4ebff;}#sk-container-id-1 div.sk-serial::before {content: \"\";position: absolute;border-left: 1px solid gray;box-sizing: border-box;top: 0;bottom: 0;left: 50%;z-index: 0;}#sk-container-id-1 div.sk-serial {display: flex;flex-direction: column;align-items: center;background-color: white;padding-right: 0.2em;padding-left: 0.2em;position: relative;}#sk-container-id-1 div.sk-item {position: relative;z-index: 1;}#sk-container-id-1 div.sk-parallel {display: flex;align-items: stretch;justify-content: center;background-color: white;position: relative;}#sk-container-id-1 div.sk-item::before, #sk-container-id-1 div.sk-parallel-item::before {content: \"\";position: absolute;border-left: 1px solid gray;box-sizing: border-box;top: 0;bottom: 0;left: 50%;z-index: -1;}#sk-container-id-1 div.sk-parallel-item {display: flex;flex-direction: column;z-index: 1;position: relative;background-color: white;}#sk-container-id-1 div.sk-parallel-item:first-child::after {align-self: flex-end;width: 50%;}#sk-container-id-1 div.sk-parallel-item:last-child::after {align-self: flex-start;width: 50%;}#sk-container-id-1 div.sk-parallel-item:only-child::after {width: 0;}#sk-container-id-1 div.sk-dashed-wrapped {border: 1px dashed gray;margin: 0 0.4em 0.5em 0.4em;box-sizing: border-box;padding-bottom: 0.4em;background-color: white;}#sk-container-id-1 div.sk-label label {font-family: monospace;font-weight: bold;display: inline-block;line-height: 1.2em;}#sk-container-id-1 div.sk-label-container {text-align: center;}#sk-container-id-1 div.sk-container {/* jupyter's `normalize.less` sets `[hidden] { display: none; }` but bootstrap.min.css set `[hidden] { display: none !important; }` so we also need the `!important` here to be able to override the default hidden behavior on the sphinx rendered scikit-learn.org. See: https://github.com/scikit-learn/scikit-learn/issues/21755 */display: inline-block !important;position: relative;}#sk-container-id-1 div.sk-text-repr-fallback {display: none;}</style><div id=\"sk-container-id-1\" class=\"sk-top-container\"><div class=\"sk-text-repr-fallback\"><pre>RandomForestClassifier(random_state=42)</pre><b>In a Jupyter environment, please rerun this cell to show the HTML representation or trust the notebook. <br />On GitHub, the HTML representation is unable to render, please try loading this page with nbviewer.org.</b></div><div class=\"sk-container\" hidden><div class=\"sk-item\"><div class=\"sk-estimator sk-toggleable\"><input class=\"sk-toggleable__control sk-hidden--visually\" id=\"sk-estimator-id-1\" type=\"checkbox\" checked><label for=\"sk-estimator-id-1\" class=\"sk-toggleable__label sk-toggleable__label-arrow\">RandomForestClassifier</label><div class=\"sk-toggleable__content\"><pre>RandomForestClassifier(random_state=42)</pre></div></div></div></div></div>"
      ],
      "text/plain": [
       "RandomForestClassifier(random_state=42)"
      ]
     },
     "execution_count": 3,
     "metadata": {},
     "output_type": "execute_result"
    }
   ],
   "source": [
    "data, labels = data_sampling(data_labeled)\n",
    "data_labeled2 = data_labeled\n",
    "data_labeled2.loc[data_labeled2['adjusted_earlylife_failure']==2, 'adjusted_earlylife_failure']=0\n",
    "data2,labels2 = data_sampling2(data_labeled2)\n",
    "randomForest(labels2, data2)"
   ]
  },
  {
   "cell_type": "code",
   "execution_count": 3,
   "metadata": {},
   "outputs": [
    {
     "name": "stdout",
     "output_type": "stream",
     "text": [
      "We have  746 parts 45  FOAs among them.\n"
     ]
    }
   ],
   "source": [
    "from prediction_tool import prepareData_prime, randomForest, data_sampling\n",
    "data_labeled = class2\n",
    "data_labeled = data_labeled[(data_labeled['Repaire_qty']>0) & (data_labeled['Repaire_qty']<10)]\n",
    "dropIndex = data_labeled[(data_labeled['Repaire_qty']==0) | (data_labeled['SystemAge']<0)].index\n",
    "data_labeled.drop(index=dropIndex, inplace = True)\n",
    "cols_drop = ['adjusted_earlylife_failure','elf_days']\n",
    "# cols_drop = ['adjusted_earlylife_failure']\n",
    "for i in data_labeled.columns.tolist():\n",
    "    if 'Unnamed' in str(i):\n",
    "        cols_drop.append(i)\n",
    "data = data_labeled.drop(columns = cols_drop)\n",
    "data = data.loc[:, data.any()] # enlever les colonnes tous 0\n",
    "labels = data_labeled['adjusted_earlylife_failure']\n",
    "FOA_label = int(input('Tell us FOA label:'))\n",
    "nb_FOA = len(data_labeled[data_labeled['adjusted_earlylife_failure']==FOA_label].index)\n",
    "print('We have ', len(data_labeled.index), 'parts', nb_FOA, ' FOAs among them.')\n"
   ]
  },
  {
   "cell_type": "code",
   "execution_count": 6,
   "metadata": {},
   "outputs": [],
   "source": [
    "import numpy as np\n",
    "sample_ELF = len(data_labeled[data_labeled['adjusted_earlylife_failure']==0].index)\n",
    "sample_FOA = len(data_labeled[data_labeled['adjusted_earlylife_failure']==1].index)\n",
    "nb_sample = np.min([sample_ELF, sample_FOA])\n",
    "\n",
    "k1=data_labeled[data_labeled['adjusted_earlylife_failure']==0].sample(nb_sample)\n",
    "k2=data_labeled[data_labeled['adjusted_earlylife_failure']==1].sample(nb_sample)\n",
    "data_labeled_sample = pd.concat([k1,k2])\n",
    "labels = data_labeled_sample['adjusted_earlylife_failure']\n",
    "\n",
    "data_sample = data_labeled_sample.drop(columns = ['Unnamed: 0', 'adjusted_earlylife_failure', 'elf_days'])\n",
    "   "
   ]
  },
  {
   "cell_type": "code",
   "execution_count": 8,
   "metadata": {},
   "outputs": [
    {
     "name": "stdout",
     "output_type": "stream",
     "text": [
      "Accuracy of prediction:  91.30 %\n"
     ]
    }
   ],
   "source": [
    "clf = randomForest(labels, data_sample)"
   ]
  },
  {
   "cell_type": "code",
   "execution_count": null,
   "metadata": {},
   "outputs": [],
   "source": []
  }
 ],
 "metadata": {
  "kernelspec": {
   "display_name": "base",
   "language": "python",
   "name": "python3"
  },
  "language_info": {
   "codemirror_mode": {
    "name": "ipython",
    "version": 3
   },
   "file_extension": ".py",
   "mimetype": "text/x-python",
   "name": "python",
   "nbconvert_exporter": "python",
   "pygments_lexer": "ipython3",
   "version": "3.10.9"
  },
  "orig_nbformat": 4
 },
 "nbformat": 4,
 "nbformat_minor": 2
}
