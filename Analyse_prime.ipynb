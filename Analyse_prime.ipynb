{
 "cells": [
  {
   "cell_type": "code",
   "execution_count": 44,
   "metadata": {},
   "outputs": [],
   "source": [
    "import pandas as pd\n",
    "import os\n",
    "import numpy as np\n",
    "from tqdm.auto import tqdm\n",
    "import pretraiter as pt"
   ]
  },
  {
   "cell_type": "code",
   "execution_count": 45,
   "metadata": {},
   "outputs": [],
   "source": [
    "data_ss = pd.read_excel('../Analyse_RC_5443517-R/SS_prime.xlsx')\n",
    "data_ss.loc[data_ss['elf_days']==0, 'adjusted_earlylife_failure']='FOA'\n",
    "data_ss.loc[(data_ss['elf_days']>0) & (data_ss['elf_days']<180), 'adjusted_earlylife_failure']='ELF'\n",
    "data_ss.loc[(data_ss['elf_days']>=180), 'adjusted_earlylife_failure']='IPFR180'"
   ]
  },
  {
   "cell_type": "code",
   "execution_count": 46,
   "metadata": {},
   "outputs": [],
   "source": [
    "data_ss.to_excel('../Analyse_RC_5443517-R/SS_prime.xlsx')"
   ]
  },
  {
   "cell_type": "code",
   "execution_count": 47,
   "metadata": {},
   "outputs": [],
   "source": [
    "elf_date = pd.to_datetime(data_ss['elf_date'])\n",
    "asset_install_date = pd.to_datetime(data_ss['asset_install_date'])\n",
    "systemAgeSS =(elf_date - asset_install_date)/np.timedelta64(1, 'D')\n",
    "systemAgeSS.apply(lambda x: pd.NA if x<0 else x)\n",
    "data_ss['SystemAge'] = systemAgeSS"
   ]
  },
  {
   "cell_type": "code",
   "execution_count": 36,
   "metadata": {},
   "outputs": [],
   "source": [
    "drop_col = ['Activity_Quarter_Close_Date', 'asset_system_id', 'asset_system_id_location', 'asset_install_date']"
   ]
  },
  {
   "cell_type": "code",
   "execution_count": 37,
   "metadata": {},
   "outputs": [],
   "source": [
    "data_ss.drop(columns=drop_col, inplace=True)"
   ]
  },
  {
   "cell_type": "code",
   "execution_count": 38,
   "metadata": {},
   "outputs": [],
   "source": [
    "data_ss['failed_part_no']=data_ss['failed_part_no'].astype(str)"
   ]
  },
  {
   "cell_type": "code",
   "execution_count": 39,
   "metadata": {},
   "outputs": [
    {
     "name": "stdout",
     "output_type": "stream",
     "text": [
      "label_encoder of adjusted_earlylife_failure: ['ELF' 'FOA' 'IPFR180']\n",
      "label_encoder of failed_part_item_type: ['GP CONSUMABLE - RETURNABLE']\n",
      "label_encoder of region_description: ['China' 'EMEA' 'Intercontinental' 'USCAN']\n",
      "label_encoder of family_name: ['3.0T Discovery MR750' '3.0T Discovery MR750W' '3.0T Signa Architect'\n",
      " '3.0T Signa Premier' '3.0T Software Upgrade']\n",
      "label_encoder of product_group: ['3-0T MR750 32 CHANNEL' '3-0T MR750W GEM ENABLED' '3-0T MR750W NON GEM'\n",
      " '3.0T SIGNA ARCHITECT FLO' '3.0T SIGNA ARCHITECT TJ 64/96/128CH'\n",
      " '3TLC TO SIGNA PREMIER DETACH UPG' 'SP MR 3.0T 750W' 'Signa Architect 32'\n",
      " 'Signa Architect 64/96/128' 'Signa Architect Lift'\n",
      " 'UPG 3.0T MR30 UPGRADE']\n",
      "label_encoder of failed_part_description: ['FRU, 3.0T GEM Quiet HNU Coil']\n",
      "label_encoder of product_identifier: ['MDF013' 'MDF019' 'MDF020' 'MDF027' 'MDF032' 'MDF033' 'MDF034' 'MDF041'\n",
      " 'MDF044' 'MDF050' 'MDF051' 'MDF053' 'MDU020' 'MDU025' 'MDU034' 'MGSR07']\n",
      "label_encoder of sub_region_description: ['AKA' 'China Mainland' 'Eastern Europe' 'FBFA' 'India and South Asia'\n",
      " 'Japan' 'LATAM' 'MENEAT' 'Northern Europe' 'RCIS' 'Southern Europe'\n",
      " 'Taiwan and Hong Kong' 'United States of America']\n",
      "label_encoder of failed_part_no: ['5443517']\n",
      "label_encoder of goldseal_flag: ['N' 'Y']\n",
      "label_encoder of Activity_Month_Close_Date: ['APR' 'AUG' 'DEC' 'FEB' 'JAN' 'JUL' 'JUN' 'MAR' 'MAY' 'NOV' 'OCT' 'SEP']\n"
     ]
    }
   ],
   "source": [
    "cols_tolabel = ['adjusted_earlylife_failure','failed_part_item_type','region_description','family_name', 'product_group',\n",
    "                    'failed_part_description', 'product_identifier', 'sub_region_description', 'failed_part_no',\n",
    "                    'goldseal_flag','Activity_Month_Close_Date']\n",
    "data_labeled = pt.label_encoder(data_ss, cols_tolabel, 'Analyse_Prime_probe')"
   ]
  },
  {
   "cell_type": "code",
   "execution_count": 40,
   "metadata": {},
   "outputs": [],
   "source": [
    "data_ss.drop(columns=['elf_date','elf_days'],inplace=True)"
   ]
  },
  {
   "cell_type": "code",
   "execution_count": 41,
   "metadata": {},
   "outputs": [],
   "source": [
    "data_ss.drop(data_ss[data_ss['SystemAge']<0].index, inplace=True)"
   ]
  },
  {
   "cell_type": "code",
   "execution_count": 42,
   "metadata": {},
   "outputs": [],
   "source": [
    "data_ss['SystemAge'].fillna(data_ss['SystemAge'].mean(),inplace = True)\n",
    "data_ss.fillna(0, inplace = True)"
   ]
  },
  {
   "cell_type": "code",
   "execution_count": 43,
   "metadata": {},
   "outputs": [],
   "source": [
    "data_ss.to_excel('../Analyse_RC_5443517-R/Final.xlsx')"
   ]
  },
  {
   "cell_type": "markdown",
   "metadata": {},
   "source": [
    "# *Supplier*"
   ]
  },
  {
   "cell_type": "code",
   "execution_count": 59,
   "metadata": {},
   "outputs": [],
   "source": [
    "drop_col2 = ['Unnamed: 0','Activity_Quarter_Close_Date', 'asset_system_id', 'asset_system_id_location', 'asset_install_date', 'failed_part_supplier_name',\n",
    "            'failed_part_supplier_flag']\n"
   ]
  },
  {
   "cell_type": "code",
   "execution_count": 60,
   "metadata": {},
   "outputs": [],
   "source": [
    "data_sup = data_ss.drop(columns=drop_col2)"
   ]
  },
  {
   "cell_type": "code",
   "execution_count": 62,
   "metadata": {},
   "outputs": [
    {
     "data": {
      "text/plain": [
       "Index(['adjusted_earlylife_failure', 'elf_days', 'elf_date', 'failed_part_no',\n",
       "       'failed_part_description', 'failed_part_item_type',\n",
       "       'failedpart_mmicv_unit', 'product_group', 'product_identifier',\n",
       "       'family_name', 'Activity_Month_Close_Date', 'region_description',\n",
       "       'sub_region_description', 'goldseal_flag',\n",
       "       'failed_part_supplier_site_code', 'SystemAge'],\n",
       "      dtype='object')"
      ]
     },
     "execution_count": 62,
     "metadata": {},
     "output_type": "execute_result"
    }
   ],
   "source": [
    "data_sup.columns"
   ]
  },
  {
   "cell_type": "code",
   "execution_count": 63,
   "metadata": {},
   "outputs": [],
   "source": [
    "data_sup.drop(data_sup[data_sup['failed_part_supplier_site_code'].isna()].index, inplace=True)"
   ]
  },
  {
   "cell_type": "code",
   "execution_count": 64,
   "metadata": {},
   "outputs": [],
   "source": [
    "data_sup['failed_part_no']=data_sup['failed_part_no'].astype(str)"
   ]
  },
  {
   "cell_type": "code",
   "execution_count": 65,
   "metadata": {},
   "outputs": [
    {
     "data": {
      "text/plain": [
       "Index(['adjusted_earlylife_failure', 'elf_days', 'elf_date', 'failed_part_no',\n",
       "       'failed_part_description', 'failed_part_item_type',\n",
       "       'failedpart_mmicv_unit', 'product_group', 'product_identifier',\n",
       "       'family_name', 'Activity_Month_Close_Date', 'region_description',\n",
       "       'sub_region_description', 'goldseal_flag',\n",
       "       'failed_part_supplier_site_code', 'SystemAge'],\n",
       "      dtype='object')"
      ]
     },
     "execution_count": 65,
     "metadata": {},
     "output_type": "execute_result"
    }
   ],
   "source": [
    "data_sup.columns"
   ]
  },
  {
   "cell_type": "code",
   "execution_count": 66,
   "metadata": {},
   "outputs": [
    {
     "ename": "ValueError",
     "evalue": "zero-size array to reduction operation maximum which has no identity",
     "output_type": "error",
     "traceback": [
      "\u001b[1;31m---------------------------------------------------------------------------\u001b[0m",
      "\u001b[1;31mValueError\u001b[0m                                Traceback (most recent call last)",
      "Cell \u001b[1;32mIn[66], line 4\u001b[0m\n\u001b[0;32m      1\u001b[0m cols_tolabel2 \u001b[39m=\u001b[39m [\u001b[39m'\u001b[39m\u001b[39madjusted_earlylife_failure\u001b[39m\u001b[39m'\u001b[39m,\u001b[39m'\u001b[39m\u001b[39mfailed_part_item_type\u001b[39m\u001b[39m'\u001b[39m,\u001b[39m'\u001b[39m\u001b[39mregion_description\u001b[39m\u001b[39m'\u001b[39m,\u001b[39m'\u001b[39m\u001b[39mfamily_name\u001b[39m\u001b[39m'\u001b[39m, \u001b[39m'\u001b[39m\u001b[39mproduct_group\u001b[39m\u001b[39m'\u001b[39m,\n\u001b[0;32m      2\u001b[0m                     \u001b[39m'\u001b[39m\u001b[39mfailed_part_description\u001b[39m\u001b[39m'\u001b[39m, \u001b[39m'\u001b[39m\u001b[39mproduct_identifier\u001b[39m\u001b[39m'\u001b[39m, \u001b[39m'\u001b[39m\u001b[39msub_region_description\u001b[39m\u001b[39m'\u001b[39m, \u001b[39m'\u001b[39m\u001b[39mfailed_part_no\u001b[39m\u001b[39m'\u001b[39m,\u001b[39m'\u001b[39m\u001b[39mfailed_part_supplier_site_code\u001b[39m\u001b[39m'\u001b[39m,\n\u001b[0;32m      3\u001b[0m                     \u001b[39m'\u001b[39m\u001b[39mgoldseal_flag\u001b[39m\u001b[39m'\u001b[39m,\u001b[39m'\u001b[39m\u001b[39mActivity_Month_Close_Date\u001b[39m\u001b[39m'\u001b[39m]\n\u001b[1;32m----> 4\u001b[0m data_sup \u001b[39m=\u001b[39m pt\u001b[39m.\u001b[39;49mlabel_encoder(data_sup, cols_tolabel2, \u001b[39m'\u001b[39;49m\u001b[39mAnalyse_Prime_5443517\u001b[39;49m\u001b[39m'\u001b[39;49m)\n",
      "File \u001b[1;32mc:\\Users\\223102584\\Box\\Doc_Xin\\Sujet_Principale\\Scripts\\pretraiter.py:31\u001b[0m, in \u001b[0;36mlabel_encoder\u001b[1;34m(data, cols, name)\u001b[0m\n\u001b[0;32m     29\u001b[0m     encoded_data \u001b[39m=\u001b[39m l_encoder\u001b[39m.\u001b[39mfit_transform(data_col)\n\u001b[0;32m     30\u001b[0m     data[single_col]\u001b[39m=\u001b[39mencoded_data\n\u001b[1;32m---> 31\u001b[0m     \u001b[39mprint\u001b[39m(\u001b[39mf\u001b[39m\u001b[39m'\u001b[39m\u001b[39mlabel_encoder of \u001b[39m\u001b[39m{\u001b[39;00msingle_col\u001b[39m}\u001b[39;00m\u001b[39m:\u001b[39m\u001b[39m'\u001b[39m, l_encoder\u001b[39m.\u001b[39minverse_transform(np\u001b[39m.\u001b[39marange(encoded_data\u001b[39m.\u001b[39;49mmax()\u001b[39m+\u001b[39m\u001b[39m1\u001b[39m)))\n\u001b[0;32m     32\u001b[0m     Encoders\u001b[39m.\u001b[39mappend(l_encoder\u001b[39m.\u001b[39minverse_transform(np\u001b[39m.\u001b[39marange(encoded_data\u001b[39m.\u001b[39mmax()\u001b[39m+\u001b[39m\u001b[39m1\u001b[39m)))\n\u001b[0;32m     33\u001b[0m df_encoders \u001b[39m=\u001b[39m pd\u001b[39m.\u001b[39mDataFrame(Encoders)\n",
      "File \u001b[1;32mc:\\Users\\223102584\\AppData\\Local\\anaconda3\\lib\\site-packages\\numpy\\core\\_methods.py:40\u001b[0m, in \u001b[0;36m_amax\u001b[1;34m(a, axis, out, keepdims, initial, where)\u001b[0m\n\u001b[0;32m     38\u001b[0m \u001b[39mdef\u001b[39;00m \u001b[39m_amax\u001b[39m(a, axis\u001b[39m=\u001b[39m\u001b[39mNone\u001b[39;00m, out\u001b[39m=\u001b[39m\u001b[39mNone\u001b[39;00m, keepdims\u001b[39m=\u001b[39m\u001b[39mFalse\u001b[39;00m,\n\u001b[0;32m     39\u001b[0m           initial\u001b[39m=\u001b[39m_NoValue, where\u001b[39m=\u001b[39m\u001b[39mTrue\u001b[39;00m):\n\u001b[1;32m---> 40\u001b[0m     \u001b[39mreturn\u001b[39;00m umr_maximum(a, axis, \u001b[39mNone\u001b[39;49;00m, out, keepdims, initial, where)\n",
      "\u001b[1;31mValueError\u001b[0m: zero-size array to reduction operation maximum which has no identity"
     ]
    }
   ],
   "source": [
    "cols_tolabel2 = ['adjusted_earlylife_failure','failed_part_item_type','region_description','family_name', 'product_group',\n",
    "                    'failed_part_description', 'product_identifier', 'sub_region_description', 'failed_part_no','failed_part_supplier_site_code',\n",
    "                    'goldseal_flag','Activity_Month_Close_Date']\n",
    "data_sup = pt.label_encoder(data_sup, cols_tolabel2, 'Analyse_Prime_5443517')"
   ]
  },
  {
   "cell_type": "code",
   "execution_count": 67,
   "metadata": {},
   "outputs": [
    {
     "data": {
      "text/plain": [
       "adjusted_earlylife_failure        0.0\n",
       "failed_part_no                    0.0\n",
       "failed_part_description           0.0\n",
       "failed_part_item_type             0.0\n",
       "failedpart_mmicv_unit             0.0\n",
       "product_group                     0.0\n",
       "product_identifier                0.0\n",
       "family_name                       0.0\n",
       "Activity_Month_Close_Date         0.0\n",
       "region_description                0.0\n",
       "sub_region_description            0.0\n",
       "goldseal_flag                     0.0\n",
       "failed_part_supplier_site_code    0.0\n",
       "SystemAge                         0.0\n",
       "dtype: float64"
      ]
     },
     "execution_count": 67,
     "metadata": {},
     "output_type": "execute_result"
    }
   ],
   "source": [
    "data_sup.drop(columns=['elf_date','elf_days'],inplace=True)\n",
    "data_sup.drop(data_sup[data_sup['SystemAge']<0].index, inplace=True)\n",
    "data_sup.isna().sum()\n"
   ]
  },
  {
   "cell_type": "code",
   "execution_count": 68,
   "metadata": {},
   "outputs": [],
   "source": [
    "data_sup['SystemAge'].fillna(data_sup['SystemAge'].mean(),inplace = True)\n",
    "data_sup.fillna(0, inplace = True)\n",
    "data_sup.to_excel('../Analyse_RC_5443517-R/data_sup.xlsx')"
   ]
  },
  {
   "cell_type": "code",
   "execution_count": null,
   "metadata": {},
   "outputs": [],
   "source": []
  },
  {
   "cell_type": "code",
   "execution_count": 69,
   "metadata": {},
   "outputs": [
    {
     "data": {
      "text/html": [
       "<div>\n",
       "<style scoped>\n",
       "    .dataframe tbody tr th:only-of-type {\n",
       "        vertical-align: middle;\n",
       "    }\n",
       "\n",
       "    .dataframe tbody tr th {\n",
       "        vertical-align: top;\n",
       "    }\n",
       "\n",
       "    .dataframe thead th {\n",
       "        text-align: right;\n",
       "    }\n",
       "</style>\n",
       "<table border=\"1\" class=\"dataframe\">\n",
       "  <thead>\n",
       "    <tr style=\"text-align: right;\">\n",
       "      <th></th>\n",
       "      <th>adjusted_earlylife_failure</th>\n",
       "      <th>failed_part_no</th>\n",
       "      <th>failed_part_description</th>\n",
       "      <th>failed_part_item_type</th>\n",
       "      <th>failedpart_mmicv_unit</th>\n",
       "      <th>product_group</th>\n",
       "      <th>product_identifier</th>\n",
       "      <th>family_name</th>\n",
       "      <th>Activity_Month_Close_Date</th>\n",
       "      <th>region_description</th>\n",
       "      <th>sub_region_description</th>\n",
       "      <th>goldseal_flag</th>\n",
       "      <th>failed_part_supplier_site_code</th>\n",
       "      <th>SystemAge</th>\n",
       "    </tr>\n",
       "  </thead>\n",
       "  <tbody>\n",
       "  </tbody>\n",
       "</table>\n",
       "</div>"
      ],
      "text/plain": [
       "Empty DataFrame\n",
       "Columns: [adjusted_earlylife_failure, failed_part_no, failed_part_description, failed_part_item_type, failedpart_mmicv_unit, product_group, product_identifier, family_name, Activity_Month_Close_Date, region_description, sub_region_description, goldseal_flag, failed_part_supplier_site_code, SystemAge]\n",
       "Index: []"
      ]
     },
     "execution_count": 69,
     "metadata": {},
     "output_type": "execute_result"
    }
   ],
   "source": [
    "data_sup"
   ]
  },
  {
   "cell_type": "code",
   "execution_count": null,
   "metadata": {},
   "outputs": [],
   "source": []
  }
 ],
 "metadata": {
  "kernelspec": {
   "display_name": "base",
   "language": "python",
   "name": "python3"
  },
  "language_info": {
   "codemirror_mode": {
    "name": "ipython",
    "version": 3
   },
   "file_extension": ".py",
   "mimetype": "text/x-python",
   "name": "python",
   "nbconvert_exporter": "python",
   "pygments_lexer": "ipython3",
   "version": "3.10.9"
  },
  "orig_nbformat": 4
 },
 "nbformat": 4,
 "nbformat_minor": 2
}
