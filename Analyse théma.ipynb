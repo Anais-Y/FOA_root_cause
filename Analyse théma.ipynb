{
 "cells": [
  {
   "cell_type": "markdown",
   "metadata": {},
   "source": [
    "# Analyse thématique-RC"
   ]
  },
  {
   "cell_type": "code",
   "execution_count": 1,
   "metadata": {},
   "outputs": [],
   "source": [
    "import os\n",
    "import pandas as pd\n",
    "from tqdm.auto import tqdm\n",
    "from Data_collection_ALL import search_key"
   ]
  },
  {
   "cell_type": "code",
   "execution_count": 2,
   "metadata": {},
   "outputs": [],
   "source": [
    "def PO_collection(file_dir):\n",
    "    all_files_list = os.listdir(file_dir)\n",
    "    tracing_files = [i for i in all_files_list if os.path.isfile(os.path.join(file_dir,i)) and i.startswith('tracing')]\n",
    "    liste_po = []\n",
    "    liste_rma = []\n",
    "    for file in tqdm(tracing_files):\n",
    "        single_tracing = pd.read_excel(os.path.join(file_dir, file), sheet_name='txn history')\n",
    "        single_tracing_rma = pd.read_excel(os.path.join(file_dir, file), sheet_name='Summary', index_col=0)\n",
    "\n",
    "        df_PO = single_tracing[['Transaction Sub-Type', 'PO Number', 'Job Number']]\n",
    "        po = df_PO[df_PO['Transaction Sub-Type'].str.contains('RDE Repair')]['PO Number']\n",
    "        if len(po)==0:\n",
    "            po = df_PO[df_PO['Transaction Sub-Type'].str.contains('GPO Repair')]['Job Number']\n",
    "        try:\n",
    "            po_val = po.values[0]\n",
    "        except:\n",
    "            # print(file)\n",
    "            po_val = None\n",
    "        liste_po.append(po_val)\n",
    "\n",
    "        rma = single_tracing_rma.loc['Key_value', 'Values']\n",
    "        liste_rma.append(rma)\n",
    "        # print(file, po_val, rma)\n",
    "    return liste_po, liste_rma"
   ]
  },
  {
   "cell_type": "code",
   "execution_count": 3,
   "metadata": {},
   "outputs": [
    {
     "data": {
      "application/vnd.jupyter.widget-view+json": {
       "model_id": "35abd69def7049f1a3c56cdfaaf28237",
       "version_major": 2,
       "version_minor": 0
      },
      "text/plain": [
       "  0%|          | 0/978 [00:00<?, ?it/s]"
      ]
     },
     "metadata": {},
     "output_type": "display_data"
    }
   ],
   "source": [
    "file_dir = '../Analyse_RC_2416759-R/RMA_forward/'\n",
    "liste_po, liste_rma = PO_collection(file_dir)"
   ]
  },
  {
   "cell_type": "code",
   "execution_count": 4,
   "metadata": {},
   "outputs": [],
   "source": [
    "rma_po = pd.DataFrame()\n",
    "rma_po['Forward_rma'] = liste_rma\n",
    "rma_po['PO'] = liste_po\n",
    "rma_po.to_excel('../Analyse_RC_2416759-R/rma_po.xlsx')"
   ]
  },
  {
   "cell_type": "code",
   "execution_count": 5,
   "metadata": {},
   "outputs": [],
   "source": [
    "def Vendor_collection(file_dir):\n",
    "    all_files_list = os.listdir(file_dir)\n",
    "    tracing_files = [i for i in all_files_list if os.path.isfile(os.path.join(file_dir,i)) and i.startswith('tracing')]\n",
    "    liste_vendor = []\n",
    "    liste_po = []\n",
    "    for file in tqdm(tracing_files):\n",
    "        single_tracing = pd.read_excel(os.path.join(file_dir, file), sheet_name='repair history')\n",
    "        single_tracing_po = pd.read_excel(os.path.join(file_dir, file), sheet_name='Summary', index_col=0)\n",
    "        if len(single_tracing.index)!=0:\n",
    "            df_Repair_site = single_tracing['Vendor Site Code'].tolist()\n",
    "            Repair_site = df_Repair_site[0]\n",
    "        else:\n",
    "            Repair_site = pd.NA\n",
    "        liste_vendor.append(Repair_site)\n",
    "\n",
    "        po = single_tracing_po.loc['Key_value', 'Values']\n",
    "        liste_po.append(po)\n",
    "        # print(file, po_val, rma)\n",
    "    return liste_vendor, liste_po"
   ]
  },
  {
   "cell_type": "code",
   "execution_count": 6,
   "metadata": {},
   "outputs": [
    {
     "data": {
      "application/vnd.jupyter.widget-view+json": {
       "model_id": "5bcaa376e4d14130a805aefd6358a951",
       "version_major": 2,
       "version_minor": 0
      },
      "text/plain": [
       "  0%|          | 0/537 [00:00<?, ?it/s]"
      ]
     },
     "metadata": {},
     "output_type": "display_data"
    }
   ],
   "source": [
    "file_dir = '../Analyse_RC_2416759-R/PO_forward/'\n",
    "liste_vendor, liste_po = Vendor_collection(file_dir)"
   ]
  },
  {
   "cell_type": "code",
   "execution_count": 7,
   "metadata": {},
   "outputs": [],
   "source": [
    "po_vendor = pd.DataFrame()\n",
    "po_vendor['PO'] = liste_po\n",
    "po_vendor['RC'] = liste_vendor\n",
    "# po_vendor[po_vendor['PO']=='425618']"
   ]
  },
  {
   "cell_type": "code",
   "execution_count": 8,
   "metadata": {},
   "outputs": [],
   "source": [
    "# \n",
    "po_vendor['PO']=po_vendor['PO'].astype(str)\n",
    "po_vendor['PO'] = po_vendor['PO'].apply(lambda x: x[:-2] if x.endswith('.0') else x)\n",
    "# po_vendor[po_vendor['PO']=='760197659']"
   ]
  },
  {
   "cell_type": "code",
   "execution_count": 9,
   "metadata": {},
   "outputs": [],
   "source": [
    "rma_po['PO'] = rma_po['PO'].astype(str)\n",
    "rma_po['PO'] = rma_po['PO'].apply(lambda x: x[:-2] if x.endswith('.0') else x)\n",
    "# liste = []\n",
    "# for s in rma_po['PO'].tolist():\n",
    "#     if s.endswith('.0'):\n",
    "#         liste.append(s[:-2])\n",
    "#     else:\n",
    "#         liste.append(s)\n",
    "# rma_po['PO']=liste"
   ]
  },
  {
   "cell_type": "code",
   "execution_count": 10,
   "metadata": {},
   "outputs": [
    {
     "data": {
      "text/html": [
       "<div>\n",
       "<style scoped>\n",
       "    .dataframe tbody tr th:only-of-type {\n",
       "        vertical-align: middle;\n",
       "    }\n",
       "\n",
       "    .dataframe tbody tr th {\n",
       "        vertical-align: top;\n",
       "    }\n",
       "\n",
       "    .dataframe thead th {\n",
       "        text-align: right;\n",
       "    }\n",
       "</style>\n",
       "<table border=\"1\" class=\"dataframe\">\n",
       "  <thead>\n",
       "    <tr style=\"text-align: right;\">\n",
       "      <th></th>\n",
       "      <th>Forward_rma</th>\n",
       "      <th>PO</th>\n",
       "    </tr>\n",
       "  </thead>\n",
       "  <tbody>\n",
       "    <tr>\n",
       "      <th>0</th>\n",
       "      <td>112851574</td>\n",
       "      <td>73320980</td>\n",
       "    </tr>\n",
       "    <tr>\n",
       "      <th>1</th>\n",
       "      <td>119669066</td>\n",
       "      <td>301883935</td>\n",
       "    </tr>\n",
       "    <tr>\n",
       "      <th>3</th>\n",
       "      <td>122527049</td>\n",
       "      <td>760110534</td>\n",
       "    </tr>\n",
       "    <tr>\n",
       "      <th>5</th>\n",
       "      <td>124693434</td>\n",
       "      <td>600814076</td>\n",
       "    </tr>\n",
       "    <tr>\n",
       "      <th>7</th>\n",
       "      <td>126867755</td>\n",
       "      <td>760110051</td>\n",
       "    </tr>\n",
       "    <tr>\n",
       "      <th>...</th>\n",
       "      <td>...</td>\n",
       "      <td>...</td>\n",
       "    </tr>\n",
       "    <tr>\n",
       "      <th>967</th>\n",
       "      <td>360147034</td>\n",
       "      <td>760223835</td>\n",
       "    </tr>\n",
       "    <tr>\n",
       "      <th>969</th>\n",
       "      <td>360378355</td>\n",
       "      <td>760225328</td>\n",
       "    </tr>\n",
       "    <tr>\n",
       "      <th>972</th>\n",
       "      <td>361126707</td>\n",
       "      <td>760225169</td>\n",
       "    </tr>\n",
       "    <tr>\n",
       "      <th>973</th>\n",
       "      <td>361137050</td>\n",
       "      <td>760225168</td>\n",
       "    </tr>\n",
       "    <tr>\n",
       "      <th>975</th>\n",
       "      <td>361323335</td>\n",
       "      <td>760225497</td>\n",
       "    </tr>\n",
       "  </tbody>\n",
       "</table>\n",
       "<p>648 rows × 2 columns</p>\n",
       "</div>"
      ],
      "text/plain": [
       "    Forward_rma         PO\n",
       "0     112851574   73320980\n",
       "1     119669066  301883935\n",
       "3     122527049  760110534\n",
       "5     124693434  600814076\n",
       "7     126867755  760110051\n",
       "..          ...        ...\n",
       "967   360147034  760223835\n",
       "969   360378355  760225328\n",
       "972   361126707  760225169\n",
       "973   361137050  760225168\n",
       "975   361323335  760225497\n",
       "\n",
       "[648 rows x 2 columns]"
      ]
     },
     "execution_count": 10,
     "metadata": {},
     "output_type": "execute_result"
    }
   ],
   "source": [
    "rma_po[rma_po['PO']!='None']\n"
   ]
  },
  {
   "cell_type": "code",
   "execution_count": 11,
   "metadata": {},
   "outputs": [
    {
     "data": {
      "text/html": [
       "<div>\n",
       "<style scoped>\n",
       "    .dataframe tbody tr th:only-of-type {\n",
       "        vertical-align: middle;\n",
       "    }\n",
       "\n",
       "    .dataframe tbody tr th {\n",
       "        vertical-align: top;\n",
       "    }\n",
       "\n",
       "    .dataframe thead th {\n",
       "        text-align: right;\n",
       "    }\n",
       "</style>\n",
       "<table border=\"1\" class=\"dataframe\">\n",
       "  <thead>\n",
       "    <tr style=\"text-align: right;\">\n",
       "      <th></th>\n",
       "      <th>Forward_rma</th>\n",
       "      <th>PO</th>\n",
       "    </tr>\n",
       "  </thead>\n",
       "  <tbody>\n",
       "  </tbody>\n",
       "</table>\n",
       "</div>"
      ],
      "text/plain": [
       "Empty DataFrame\n",
       "Columns: [Forward_rma, PO]\n",
       "Index: []"
      ]
     },
     "execution_count": 11,
     "metadata": {},
     "output_type": "execute_result"
    }
   ],
   "source": [
    "rma_po[rma_po['PO']=='301685189']"
   ]
  },
  {
   "cell_type": "code",
   "execution_count": 12,
   "metadata": {},
   "outputs": [
    {
     "data": {
      "text/html": [
       "<div>\n",
       "<style scoped>\n",
       "    .dataframe tbody tr th:only-of-type {\n",
       "        vertical-align: middle;\n",
       "    }\n",
       "\n",
       "    .dataframe tbody tr th {\n",
       "        vertical-align: top;\n",
       "    }\n",
       "\n",
       "    .dataframe thead th {\n",
       "        text-align: right;\n",
       "    }\n",
       "</style>\n",
       "<table border=\"1\" class=\"dataframe\">\n",
       "  <thead>\n",
       "    <tr style=\"text-align: right;\">\n",
       "      <th></th>\n",
       "      <th>Forward_rma</th>\n",
       "      <th>PO</th>\n",
       "      <th>RC</th>\n",
       "    </tr>\n",
       "  </thead>\n",
       "  <tbody>\n",
       "  </tbody>\n",
       "</table>\n",
       "</div>"
      ],
      "text/plain": [
       "Empty DataFrame\n",
       "Columns: [Forward_rma, PO, RC]\n",
       "Index: []"
      ]
     },
     "execution_count": 12,
     "metadata": {},
     "output_type": "execute_result"
    }
   ],
   "source": [
    "merge = rma_po.merge(po_vendor, how='left', left_on='PO', right_on='PO')\n",
    "merge[merge['PO']=='425618']\n"
   ]
  },
  {
   "cell_type": "code",
   "execution_count": 13,
   "metadata": {},
   "outputs": [],
   "source": [
    "data_SS = pd.read_excel('../Analyse_RC_2416759-R/SS.xlsx')\n",
    "data_SS.loc[data_SS['elf_days']==0, 'adjusted_earlylife_failure']='FOA'\n",
    "data_SS.loc[(data_SS['elf_days']>0) & (data_SS['elf_days']<180), 'adjusted_earlylife_failure']='ELF'\n",
    "data_SS.loc[data_SS['elf_days']>=180, 'adjusted_earlylife_failure']='IPFR>180'\n",
    "\n",
    "failure = data_SS[['adjusted_earlylife_failure', 'rma_no']]"
   ]
  },
  {
   "cell_type": "code",
   "execution_count": 14,
   "metadata": {},
   "outputs": [
    {
     "name": "stderr",
     "output_type": "stream",
     "text": [
      "C:\\Users\\223102584\\AppData\\Local\\Temp\\ipykernel_23428\\2296836629.py:1: SettingWithCopyWarning: \n",
      "A value is trying to be set on a copy of a slice from a DataFrame.\n",
      "Try using .loc[row_indexer,col_indexer] = value instead\n",
      "\n",
      "See the caveats in the documentation: https://pandas.pydata.org/pandas-docs/stable/user_guide/indexing.html#returning-a-view-versus-a-copy\n",
      "  failure['rma_no'] = failure['rma_no'].astype(str)\n",
      "C:\\Users\\223102584\\AppData\\Local\\Temp\\ipykernel_23428\\2296836629.py:2: SettingWithCopyWarning: \n",
      "A value is trying to be set on a copy of a slice from a DataFrame.\n",
      "Try using .loc[row_indexer,col_indexer] = value instead\n",
      "\n",
      "See the caveats in the documentation: https://pandas.pydata.org/pandas-docs/stable/user_guide/indexing.html#returning-a-view-versus-a-copy\n",
      "  failure['rma_no'] = failure['rma_no'].apply(lambda x: x[:-2] if x.endswith('.0') else x)\n"
     ]
    }
   ],
   "source": [
    "failure['rma_no'] = failure['rma_no'].astype(str)\n",
    "failure['rma_no'] = failure['rma_no'].apply(lambda x: x[:-2] if x.endswith('.0') else x)"
   ]
  },
  {
   "cell_type": "code",
   "execution_count": 15,
   "metadata": {},
   "outputs": [],
   "source": [
    "merge['Forward_rma'] = merge['Forward_rma'].astype(str)\n",
    "final = failure.merge(merge, how='left', left_on='rma_no', right_on='Forward_rma')"
   ]
  },
  {
   "cell_type": "code",
   "execution_count": 16,
   "metadata": {},
   "outputs": [
    {
     "data": {
      "text/html": [
       "<div>\n",
       "<style scoped>\n",
       "    .dataframe tbody tr th:only-of-type {\n",
       "        vertical-align: middle;\n",
       "    }\n",
       "\n",
       "    .dataframe tbody tr th {\n",
       "        vertical-align: top;\n",
       "    }\n",
       "\n",
       "    .dataframe thead th {\n",
       "        text-align: right;\n",
       "    }\n",
       "</style>\n",
       "<table border=\"1\" class=\"dataframe\">\n",
       "  <thead>\n",
       "    <tr style=\"text-align: right;\">\n",
       "      <th></th>\n",
       "      <th>adjusted_earlylife_failure</th>\n",
       "      <th>rma_no</th>\n",
       "      <th>Forward_rma</th>\n",
       "      <th>PO</th>\n",
       "      <th>RC</th>\n",
       "    </tr>\n",
       "  </thead>\n",
       "  <tbody>\n",
       "  </tbody>\n",
       "</table>\n",
       "</div>"
      ],
      "text/plain": [
       "Empty DataFrame\n",
       "Columns: [adjusted_earlylife_failure, rma_no, Forward_rma, PO, RC]\n",
       "Index: []"
      ]
     },
     "execution_count": 16,
     "metadata": {},
     "output_type": "execute_result"
    }
   ],
   "source": [
    "final[final['RC'].isna()==False].head(15)\n",
    "final[final['RC']=='GPO REPAIR 503']"
   ]
  },
  {
   "cell_type": "code",
   "execution_count": 17,
   "metadata": {},
   "outputs": [],
   "source": [
    "final.to_excel('../Analyse_RC_2416759-R/final.xlsx')"
   ]
  },
  {
   "cell_type": "code",
   "execution_count": 18,
   "metadata": {},
   "outputs": [
    {
     "name": "stderr",
     "output_type": "stream",
     "text": [
      "C:\\Users\\223102584\\AppData\\Local\\Temp\\ipykernel_23428\\383861224.py:2: SettingWithCopyWarning: \n",
      "A value is trying to be set on a copy of a slice from a DataFrame\n",
      "\n",
      "See the caveats in the documentation: https://pandas.pydata.org/pandas-docs/stable/user_guide/indexing.html#returning-a-view-versus-a-copy\n",
      "  dist.dropna(subset=['RC'], inplace=True)\n"
     ]
    },
    {
     "data": {
      "text/html": [
       "<div>\n",
       "<style scoped>\n",
       "    .dataframe tbody tr th:only-of-type {\n",
       "        vertical-align: middle;\n",
       "    }\n",
       "\n",
       "    .dataframe tbody tr th {\n",
       "        vertical-align: top;\n",
       "    }\n",
       "\n",
       "    .dataframe thead th {\n",
       "        text-align: right;\n",
       "    }\n",
       "</style>\n",
       "<table border=\"1\" class=\"dataframe\">\n",
       "  <thead>\n",
       "    <tr style=\"text-align: right;\">\n",
       "      <th></th>\n",
       "      <th></th>\n",
       "      <th>rma_no</th>\n",
       "    </tr>\n",
       "    <tr>\n",
       "      <th>RC</th>\n",
       "      <th>adjusted_earlylife_failure</th>\n",
       "      <th></th>\n",
       "    </tr>\n",
       "  </thead>\n",
       "  <tbody>\n",
       "    <tr>\n",
       "      <th rowspan=\"3\" valign=\"top\">AURORA      102</th>\n",
       "      <th>ELF</th>\n",
       "      <td>52</td>\n",
       "    </tr>\n",
       "    <tr>\n",
       "      <th>FOA</th>\n",
       "      <td>24</td>\n",
       "    </tr>\n",
       "    <tr>\n",
       "      <th>IPFR&gt;180</th>\n",
       "      <td>225</td>\n",
       "    </tr>\n",
       "    <tr>\n",
       "      <th rowspan=\"2\" valign=\"top\">BARUERI     105</th>\n",
       "      <th>ELF</th>\n",
       "      <td>1</td>\n",
       "    </tr>\n",
       "    <tr>\n",
       "      <th>IPFR&gt;180</th>\n",
       "      <td>4</td>\n",
       "    </tr>\n",
       "    <tr>\n",
       "      <th rowspan=\"2\" valign=\"top\">GPO ASIA    511</th>\n",
       "      <th>FOA</th>\n",
       "      <td>1</td>\n",
       "    </tr>\n",
       "    <tr>\n",
       "      <th>IPFR&gt;180</th>\n",
       "      <td>7</td>\n",
       "    </tr>\n",
       "    <tr>\n",
       "      <th rowspan=\"3\" valign=\"top\">SHANGHAI    101</th>\n",
       "      <th>ELF</th>\n",
       "      <td>47</td>\n",
       "    </tr>\n",
       "    <tr>\n",
       "      <th>FOA</th>\n",
       "      <td>13</td>\n",
       "    </tr>\n",
       "    <tr>\n",
       "      <th>IPFR&gt;180</th>\n",
       "      <td>155</td>\n",
       "    </tr>\n",
       "    <tr>\n",
       "      <th>Tianjin 101</th>\n",
       "      <th>IPFR&gt;180</th>\n",
       "      <td>11</td>\n",
       "    </tr>\n",
       "  </tbody>\n",
       "</table>\n",
       "</div>"
      ],
      "text/plain": [
       "                                            rma_no\n",
       "RC              adjusted_earlylife_failure        \n",
       "AURORA      102 ELF                             52\n",
       "                FOA                             24\n",
       "                IPFR>180                       225\n",
       "BARUERI     105 ELF                              1\n",
       "                IPFR>180                         4\n",
       "GPO ASIA    511 FOA                              1\n",
       "                IPFR>180                         7\n",
       "SHANGHAI    101 ELF                             47\n",
       "                FOA                             13\n",
       "                IPFR>180                       155\n",
       "Tianjin 101     IPFR>180                        11"
      ]
     },
     "execution_count": 18,
     "metadata": {},
     "output_type": "execute_result"
    }
   ],
   "source": [
    "dist = final[['adjusted_earlylife_failure', 'RC', 'rma_no']]\n",
    "dist.dropna(subset=['RC'], inplace=True)\n",
    "group_dist = dist.groupby(['RC','adjusted_earlylife_failure']).count()\n",
    "group_dist"
   ]
  },
  {
   "cell_type": "code",
   "execution_count": 23,
   "metadata": {},
   "outputs": [
    {
     "name": "stdout",
     "output_type": "stream",
     "text": [
      "taux de IPFR>180 à AURORA:74.75 %\n",
      "taux de IPFR>180 à SHANGHAI:72.09 %\n",
      "taux de FOA à AURORA:7.97 %\n",
      "taux de FOA à SHANGHAI:6.05 %\n"
     ]
    }
   ],
   "source": [
    "print('taux de IPFR>180 à AURORA:{:.2f}'.format(225/(52+24+225)*100),'%' )\n",
    "print('taux de IPFR>180 à SHANGHAI:{:.2f}'.format(155/(47+13+155)*100), '%')\n",
    "\n",
    "print('taux de FOA à AURORA:{:.2f}'.format(24/(52+24+225)*100), '%')\n",
    "print('taux de FOA à SHANGHAI:{:.2f}'.format(13/(47+13+155)*100), '%')"
   ]
  },
  {
   "cell_type": "code",
   "execution_count": null,
   "metadata": {},
   "outputs": [],
   "source": [
    "def index(group_dist):\n",
    "    \"\"\"_summary_\n",
    "\n",
    "    Parameters\n",
    "    ----------\n",
    "    group_dist : _type_\n",
    "        _description_\n",
    "\n",
    "    Returns\n",
    "    -------\n",
    "    _type_\n",
    "        _description_\n",
    "    \"\"\"\n",
    "    return group_dist.index"
   ]
  },
  {
   "cell_type": "code",
   "execution_count": 22,
   "metadata": {},
   "outputs": [
    {
     "data": {
      "text/plain": [
       "<Axes: xlabel='RC'>"
      ]
     },
     "execution_count": 22,
     "metadata": {},
     "output_type": "execute_result"
    },
    {
     "data": {
      "image/png": "[encoded data removed]",
      "text/plain": [
       "<Figure size 640x480 with 1 Axes>"
      ]
     },
     "metadata": {},
     "output_type": "display_data"
    }
   ],
   "source": [
    "group_dist = dist.groupby(['RC','adjusted_earlylife_failure']).count().unstack()\n",
    "group_dist.columns = group_dist.columns.droplevel()\n",
    "group_dist.plot.bar(stacked = True, rot=10)\n"
   ]
  },
  {
   "cell_type": "code",
   "execution_count": 23,
   "metadata": {},
   "outputs": [
    {
     "data": {
      "text/html": [
       "<div>\n",
       "<style scoped>\n",
       "    .dataframe tbody tr th:only-of-type {\n",
       "        vertical-align: middle;\n",
       "    }\n",
       "\n",
       "    .dataframe tbody tr th {\n",
       "        vertical-align: top;\n",
       "    }\n",
       "\n",
       "    .dataframe thead th {\n",
       "        text-align: right;\n",
       "    }\n",
       "</style>\n",
       "<table border=\"1\" class=\"dataframe\">\n",
       "  <thead>\n",
       "    <tr style=\"text-align: right;\">\n",
       "      <th>adjusted_earlylife_failure</th>\n",
       "      <th>ELF</th>\n",
       "      <th>FOA</th>\n",
       "      <th>IPFR&gt;180</th>\n",
       "    </tr>\n",
       "    <tr>\n",
       "      <th>RC</th>\n",
       "      <th></th>\n",
       "      <th></th>\n",
       "      <th></th>\n",
       "    </tr>\n",
       "  </thead>\n",
       "  <tbody>\n",
       "    <tr>\n",
       "      <th>AURORA      102</th>\n",
       "      <td>20</td>\n",
       "      <td>14</td>\n",
       "      <td>84</td>\n",
       "    </tr>\n",
       "    <tr>\n",
       "      <th>SHANGHAI    101</th>\n",
       "      <td>11</td>\n",
       "      <td>12</td>\n",
       "      <td>24</td>\n",
       "    </tr>\n",
       "  </tbody>\n",
       "</table>\n",
       "</div>"
      ],
      "text/plain": [
       "adjusted_earlylife_failure  ELF  FOA  IPFR>180\n",
       "RC                                            \n",
       "AURORA      102              20   14        84\n",
       "SHANGHAI    101              11   12        24"
      ]
     },
     "execution_count": 23,
     "metadata": {},
     "output_type": "execute_result"
    }
   ],
   "source": [
    "group_dist"
   ]
  },
  {
   "cell_type": "code",
   "execution_count": 206,
   "metadata": {},
   "outputs": [
    {
     "data": {
      "application/vnd.jupyter.widget-view+json": {
       "model_id": "a5b5840b1fe642eba4d157c1974d1646",
       "version_major": 2,
       "version_minor": 0
      },
      "text/plain": [
       "  0%|          | 0/1346 [00:00<?, ?it/s]"
      ]
     },
     "metadata": {},
     "output_type": "display_data"
    }
   ],
   "source": [
    "file_dir = '../Analyse_RC_2418093/RMA_forward/'\n",
    "liste_po, liste_rma = PO_collection(file_dir)"
   ]
  },
  {
   "cell_type": "code",
   "execution_count": 207,
   "metadata": {},
   "outputs": [],
   "source": [
    "rma_po = pd.DataFrame()\n",
    "rma_po['Forward_rma'] = liste_rma\n",
    "rma_po['PO'] = liste_po\n",
    "rma_po.to_excel('../Analyse_RC_2418093/rma_po.xlsx')"
   ]
  },
  {
   "cell_type": "code",
   "execution_count": 210,
   "metadata": {},
   "outputs": [
    {
     "data": {
      "application/vnd.jupyter.widget-view+json": {
       "model_id": "2c90adb2ece74698b6467eec82ce9825",
       "version_major": 2,
       "version_minor": 0
      },
      "text/plain": [
       "  0%|          | 0/739 [00:00<?, ?it/s]"
      ]
     },
     "metadata": {},
     "output_type": "display_data"
    }
   ],
   "source": [
    "file_dir = '../Analyse_RC_2418093/PO_forward/'\n",
    "liste_vendor, liste_po = Vendor_collection(file_dir)"
   ]
  },
  {
   "cell_type": "code",
   "execution_count": 211,
   "metadata": {},
   "outputs": [
    {
     "data": {
      "text/html": [
       "<div>\n",
       "<style scoped>\n",
       "    .dataframe tbody tr th:only-of-type {\n",
       "        vertical-align: middle;\n",
       "    }\n",
       "\n",
       "    .dataframe tbody tr th {\n",
       "        vertical-align: top;\n",
       "    }\n",
       "\n",
       "    .dataframe thead th {\n",
       "        text-align: right;\n",
       "    }\n",
       "</style>\n",
       "<table border=\"1\" class=\"dataframe\">\n",
       "  <thead>\n",
       "    <tr style=\"text-align: right;\">\n",
       "      <th></th>\n",
       "      <th>PO</th>\n",
       "      <th>RC</th>\n",
       "    </tr>\n",
       "  </thead>\n",
       "  <tbody>\n",
       "    <tr>\n",
       "      <th>0</th>\n",
       "      <td>301639988</td>\n",
       "      <td>AURORA      102</td>\n",
       "    </tr>\n",
       "    <tr>\n",
       "      <th>1</th>\n",
       "      <td>301641695</td>\n",
       "      <td>AURORA      102</td>\n",
       "    </tr>\n",
       "    <tr>\n",
       "      <th>2</th>\n",
       "      <td>301659247</td>\n",
       "      <td>AURORA      102</td>\n",
       "    </tr>\n",
       "    <tr>\n",
       "      <th>3</th>\n",
       "      <td>301660176</td>\n",
       "      <td>AURORA      102</td>\n",
       "    </tr>\n",
       "    <tr>\n",
       "      <th>4</th>\n",
       "      <td>301661734</td>\n",
       "      <td>AURORA      102</td>\n",
       "    </tr>\n",
       "    <tr>\n",
       "      <th>...</th>\n",
       "      <td>...</td>\n",
       "      <td>...</td>\n",
       "    </tr>\n",
       "    <tr>\n",
       "      <th>734</th>\n",
       "      <td>760221236</td>\n",
       "      <td>Tianjin 101</td>\n",
       "    </tr>\n",
       "    <tr>\n",
       "      <th>735</th>\n",
       "      <td>760221781</td>\n",
       "      <td>Tianjin 101</td>\n",
       "    </tr>\n",
       "    <tr>\n",
       "      <th>736</th>\n",
       "      <td>760221782</td>\n",
       "      <td>SHANGHAI    101</td>\n",
       "    </tr>\n",
       "    <tr>\n",
       "      <th>737</th>\n",
       "      <td>760222385</td>\n",
       "      <td>Tianjin 101</td>\n",
       "    </tr>\n",
       "    <tr>\n",
       "      <th>738</th>\n",
       "      <td>760223185</td>\n",
       "      <td>Tianjin 101</td>\n",
       "    </tr>\n",
       "  </tbody>\n",
       "</table>\n",
       "<p>739 rows × 2 columns</p>\n",
       "</div>"
      ],
      "text/plain": [
       "            PO               RC\n",
       "0    301639988  AURORA      102\n",
       "1    301641695  AURORA      102\n",
       "2    301659247  AURORA      102\n",
       "3    301660176  AURORA      102\n",
       "4    301661734  AURORA      102\n",
       "..         ...              ...\n",
       "734  760221236      Tianjin 101\n",
       "735  760221781      Tianjin 101\n",
       "736  760221782  SHANGHAI    101\n",
       "737  760222385      Tianjin 101\n",
       "738  760223185      Tianjin 101\n",
       "\n",
       "[739 rows x 2 columns]"
      ]
     },
     "execution_count": 211,
     "metadata": {},
     "output_type": "execute_result"
    }
   ],
   "source": [
    "po_vendor = pd.DataFrame()\n",
    "po_vendor['PO'] = liste_po\n",
    "po_vendor['RC'] = liste_vendor\n",
    "po_vendor"
   ]
  },
  {
   "cell_type": "code",
   "execution_count": 212,
   "metadata": {},
   "outputs": [],
   "source": [
    "po_vendor['PO']=po_vendor['PO'].astype(str)\n",
    "po_vendor['PO'] = po_vendor['PO'].apply(lambda x: x[:-2] if x.endswith('.0') else x)"
   ]
  },
  {
   "cell_type": "code",
   "execution_count": 213,
   "metadata": {},
   "outputs": [],
   "source": [
    "rma_po['PO'] = rma_po['PO'].astype(str)\n",
    "rma_po['PO'] = rma_po['PO'].apply(lambda x: x[:-2] if x.endswith('.0') else x)"
   ]
  },
  {
   "cell_type": "code",
   "execution_count": 214,
   "metadata": {},
   "outputs": [],
   "source": [
    "merge = rma_po.merge(po_vendor, how='left', left_on='PO', right_on='PO')\n",
    "# merge[merge['PO']=='760197659']"
   ]
  },
  {
   "cell_type": "code",
   "execution_count": 215,
   "metadata": {},
   "outputs": [],
   "source": [
    "data_SS = pd.read_excel('../Analyse_RC_2418093/SS.xlsx')\n",
    "data_SS.loc[data_SS['elf_days']==0, 'adjusted_earlylife_failure']='FOA'\n",
    "data_SS.loc[(data_SS['elf_days']>0) & (data_SS['elf_days']<180), 'adjusted_earlylife_failure']='ELF'\n",
    "\n",
    "failure = data_SS[['adjusted_earlylife_failure', 'rma_no']]"
   ]
  },
  {
   "cell_type": "code",
   "execution_count": 216,
   "metadata": {},
   "outputs": [
    {
     "name": "stderr",
     "output_type": "stream",
     "text": [
      "C:\\Users\\223102584\\AppData\\Local\\Temp\\ipykernel_15040\\2296836629.py:1: SettingWithCopyWarning: \n",
      "A value is trying to be set on a copy of a slice from a DataFrame.\n",
      "Try using .loc[row_indexer,col_indexer] = value instead\n",
      "\n",
      "See the caveats in the documentation: https://pandas.pydata.org/pandas-docs/stable/user_guide/indexing.html#returning-a-view-versus-a-copy\n",
      "  failure['rma_no'] = failure['rma_no'].astype(str)\n",
      "C:\\Users\\223102584\\AppData\\Local\\Temp\\ipykernel_15040\\2296836629.py:2: SettingWithCopyWarning: \n",
      "A value is trying to be set on a copy of a slice from a DataFrame.\n",
      "Try using .loc[row_indexer,col_indexer] = value instead\n",
      "\n",
      "See the caveats in the documentation: https://pandas.pydata.org/pandas-docs/stable/user_guide/indexing.html#returning-a-view-versus-a-copy\n",
      "  failure['rma_no'] = failure['rma_no'].apply(lambda x: x[:-2] if x.endswith('.0') else x)\n"
     ]
    }
   ],
   "source": [
    "failure['rma_no'] = failure['rma_no'].astype(str)\n",
    "failure['rma_no'] = failure['rma_no'].apply(lambda x: x[:-2] if x.endswith('.0') else x)"
   ]
  },
  {
   "cell_type": "code",
   "execution_count": 217,
   "metadata": {},
   "outputs": [],
   "source": [
    "merge['Forward_rma'] = merge['Forward_rma'].astype(str)\n",
    "final = failure.merge(merge, how='left', left_on='rma_no', right_on='Forward_rma')"
   ]
  },
  {
   "cell_type": "code",
   "execution_count": 219,
   "metadata": {},
   "outputs": [
    {
     "data": {
      "text/plain": [
       "adjusted_earlylife_failure      0\n",
       "rma_no                          0\n",
       "Forward_rma                   208\n",
       "PO                            208\n",
       "RC                            816\n",
       "dtype: int64"
      ]
     },
     "execution_count": 219,
     "metadata": {},
     "output_type": "execute_result"
    }
   ],
   "source": [
    "final.isna().sum()"
   ]
  },
  {
   "cell_type": "code",
   "execution_count": 221,
   "metadata": {},
   "outputs": [],
   "source": [
    "final.to_excel('../Analyse_RC_2418093/final.xlsx')"
   ]
  },
  {
   "cell_type": "code",
   "execution_count": 222,
   "metadata": {},
   "outputs": [
    {
     "name": "stderr",
     "output_type": "stream",
     "text": [
      "C:\\Users\\223102584\\AppData\\Local\\Temp\\ipykernel_15040\\383861224.py:2: SettingWithCopyWarning: \n",
      "A value is trying to be set on a copy of a slice from a DataFrame\n",
      "\n",
      "See the caveats in the documentation: https://pandas.pydata.org/pandas-docs/stable/user_guide/indexing.html#returning-a-view-versus-a-copy\n",
      "  dist.dropna(subset=['RC'], inplace=True)\n"
     ]
    },
    {
     "data": {
      "text/html": [
       "<div>\n",
       "<style scoped>\n",
       "    .dataframe tbody tr th:only-of-type {\n",
       "        vertical-align: middle;\n",
       "    }\n",
       "\n",
       "    .dataframe tbody tr th {\n",
       "        vertical-align: top;\n",
       "    }\n",
       "\n",
       "    .dataframe thead th {\n",
       "        text-align: right;\n",
       "    }\n",
       "</style>\n",
       "<table border=\"1\" class=\"dataframe\">\n",
       "  <thead>\n",
       "    <tr style=\"text-align: right;\">\n",
       "      <th></th>\n",
       "      <th></th>\n",
       "      <th>rma_no</th>\n",
       "    </tr>\n",
       "    <tr>\n",
       "      <th>RC</th>\n",
       "      <th>adjusted_earlylife_failure</th>\n",
       "      <th></th>\n",
       "    </tr>\n",
       "  </thead>\n",
       "  <tbody>\n",
       "    <tr>\n",
       "      <th rowspan=\"3\" valign=\"top\">AURORA      102</th>\n",
       "      <th>ELF</th>\n",
       "      <td>65</td>\n",
       "    </tr>\n",
       "    <tr>\n",
       "      <th>FOA</th>\n",
       "      <td>35</td>\n",
       "    </tr>\n",
       "    <tr>\n",
       "      <th>IPFR&gt;180</th>\n",
       "      <td>331</td>\n",
       "    </tr>\n",
       "    <tr>\n",
       "      <th rowspan=\"2\" valign=\"top\">GPO ASIA    511</th>\n",
       "      <th>ELF</th>\n",
       "      <td>1</td>\n",
       "    </tr>\n",
       "    <tr>\n",
       "      <th>IPFR&gt;180</th>\n",
       "      <td>6</td>\n",
       "    </tr>\n",
       "    <tr>\n",
       "      <th rowspan=\"3\" valign=\"top\">SHANGHAI    101</th>\n",
       "      <th>ELF</th>\n",
       "      <td>81</td>\n",
       "    </tr>\n",
       "    <tr>\n",
       "      <th>FOA</th>\n",
       "      <td>24</td>\n",
       "    </tr>\n",
       "    <tr>\n",
       "      <th>IPFR&gt;180</th>\n",
       "      <td>191</td>\n",
       "    </tr>\n",
       "    <tr>\n",
       "      <th>Tianjin 101</th>\n",
       "      <th>IPFR&gt;180</th>\n",
       "      <td>6</td>\n",
       "    </tr>\n",
       "  </tbody>\n",
       "</table>\n",
       "</div>"
      ],
      "text/plain": [
       "                                            rma_no\n",
       "RC              adjusted_earlylife_failure        \n",
       "AURORA      102 ELF                             65\n",
       "                FOA                             35\n",
       "                IPFR>180                       331\n",
       "GPO ASIA    511 ELF                              1\n",
       "                IPFR>180                         6\n",
       "SHANGHAI    101 ELF                             81\n",
       "                FOA                             24\n",
       "                IPFR>180                       191\n",
       "Tianjin 101     IPFR>180                         6"
      ]
     },
     "execution_count": 222,
     "metadata": {},
     "output_type": "execute_result"
    }
   ],
   "source": [
    "dist = final[['adjusted_earlylife_failure', 'RC', 'rma_no']]\n",
    "dist.dropna(subset=['RC'], inplace=True)\n",
    "group_dist = dist.groupby(['RC','adjusted_earlylife_failure']).count()\n",
    "group_dist"
   ]
  },
  {
   "cell_type": "code",
   "execution_count": 224,
   "metadata": {},
   "outputs": [
    {
     "name": "stdout",
     "output_type": "stream",
     "text": [
      "taux de IPFR>180 à AURORA:76.80 %\n",
      "taux de IPFR>180 à SHANGHAI:64.53 %\n",
      "taux de FOA à AURORA:8.12 %\n",
      "taux de FOA à SHANGHAI:8.11 %\n"
     ]
    }
   ],
   "source": [
    "print('taux de IPFR>180 à AURORA:{:.2f}'.format(331/(65+35+331)*100),'%' )\n",
    "print('taux de IPFR>180 à SHANGHAI:{:.2f}'.format(191/(81+24+191)*100), '%')\n",
    "\n",
    "print('taux de FOA à AURORA:{:.2f}'.format(35/(65+35+331)*100), '%')\n",
    "print('taux de FOA à SHANGHAI:{:.2f}'.format(24/(81+24+191)*100), '%')"
   ]
  },
  {
   "cell_type": "code",
   "execution_count": 223,
   "metadata": {},
   "outputs": [
    {
     "data": {
      "text/plain": [
       "<Axes: xlabel='RC'>"
      ]
     },
     "execution_count": 223,
     "metadata": {},
     "output_type": "execute_result"
    },
    {
     "data": {
      "image/png": "[encoded data removed]",
      "text/plain": [
       "<Figure size 640x480 with 1 Axes>"
      ]
     },
     "metadata": {},
     "output_type": "display_data"
    }
   ],
   "source": [
    "group_dist = dist.groupby(['RC','adjusted_earlylife_failure']).count().unstack()\n",
    "group_dist.columns = group_dist.columns.droplevel()\n",
    "group_dist.plot.bar(stacked = True, rot=0)"
   ]
  },
  {
   "cell_type": "code",
   "execution_count": null,
   "metadata": {},
   "outputs": [],
   "source": []
  },
  {
   "cell_type": "markdown",
   "metadata": {},
   "source": [
    "# *Prime*"
   ]
  },
  {
   "cell_type": "code",
   "execution_count": 15,
   "metadata": {},
   "outputs": [],
   "source": [
    "data = pd.read_excel('../Analyse_Prime_probe/SS_4_classes.xlsx')"
   ]
  },
  {
   "cell_type": "code",
   "execution_count": 16,
   "metadata": {},
   "outputs": [
    {
     "name": "stderr",
     "output_type": "stream",
     "text": [
      "C:\\Users\\223102584\\AppData\\Local\\Temp\\ipykernel_19296\\1798255905.py:2: SettingWithCopyWarning: \n",
      "A value is trying to be set on a copy of a slice from a DataFrame\n",
      "\n",
      "See the caveats in the documentation: https://pandas.pydata.org/pandas-docs/stable/user_guide/indexing.html#returning-a-view-versus-a-copy\n",
      "  dist.dropna(subset=['failed_part_supplier_site_code'], inplace=True)\n"
     ]
    },
    {
     "data": {
      "text/html": [
       "<div>\n",
       "<style scoped>\n",
       "    .dataframe tbody tr th:only-of-type {\n",
       "        vertical-align: middle;\n",
       "    }\n",
       "\n",
       "    .dataframe tbody tr th {\n",
       "        vertical-align: top;\n",
       "    }\n",
       "\n",
       "    .dataframe thead th {\n",
       "        text-align: right;\n",
       "    }\n",
       "</style>\n",
       "<table border=\"1\" class=\"dataframe\">\n",
       "  <thead>\n",
       "    <tr style=\"text-align: right;\">\n",
       "      <th></th>\n",
       "      <th></th>\n",
       "      <th>failed_part_no</th>\n",
       "    </tr>\n",
       "    <tr>\n",
       "      <th>failed_part_supplier_site_code</th>\n",
       "      <th>adjusted_earlylife_failure</th>\n",
       "      <th></th>\n",
       "    </tr>\n",
       "  </thead>\n",
       "  <tbody>\n",
       "    <tr>\n",
       "      <th rowspan=\"3\" valign=\"top\">AURORA      102</th>\n",
       "      <th>ELF</th>\n",
       "      <td>33</td>\n",
       "    </tr>\n",
       "    <tr>\n",
       "      <th>FOA</th>\n",
       "      <td>22</td>\n",
       "    </tr>\n",
       "    <tr>\n",
       "      <th>IPFR180</th>\n",
       "      <td>105</td>\n",
       "    </tr>\n",
       "    <tr>\n",
       "      <th>BAOTOU      101</th>\n",
       "      <th>ELF</th>\n",
       "      <td>1</td>\n",
       "    </tr>\n",
       "    <tr>\n",
       "      <th rowspan=\"3\" valign=\"top\">BEST        105</th>\n",
       "      <th>ELF</th>\n",
       "      <td>37</td>\n",
       "    </tr>\n",
       "    <tr>\n",
       "      <th>FOA</th>\n",
       "      <td>24</td>\n",
       "    </tr>\n",
       "    <tr>\n",
       "      <th>IPFR180</th>\n",
       "      <td>206</td>\n",
       "    </tr>\n",
       "    <tr>\n",
       "      <th rowspan=\"2\" valign=\"top\">BROOKLYN PAR102</th>\n",
       "      <th>FOA</th>\n",
       "      <td>3</td>\n",
       "    </tr>\n",
       "    <tr>\n",
       "      <th>IPFR180</th>\n",
       "      <td>4</td>\n",
       "    </tr>\n",
       "    <tr>\n",
       "      <th>CHANDLER    104</th>\n",
       "      <th>ELF</th>\n",
       "      <td>1</td>\n",
       "    </tr>\n",
       "    <tr>\n",
       "      <th rowspan=\"3\" valign=\"top\">COCHIN      101</th>\n",
       "      <th>ELF</th>\n",
       "      <td>24</td>\n",
       "    </tr>\n",
       "    <tr>\n",
       "      <th>FOA</th>\n",
       "      <td>4</td>\n",
       "    </tr>\n",
       "    <tr>\n",
       "      <th>IPFR180</th>\n",
       "      <td>79</td>\n",
       "    </tr>\n",
       "    <tr>\n",
       "      <th rowspan=\"2\" valign=\"top\">FENTON      101</th>\n",
       "      <th>ELF</th>\n",
       "      <td>3</td>\n",
       "    </tr>\n",
       "    <tr>\n",
       "      <th>IPFR180</th>\n",
       "      <td>24</td>\n",
       "    </tr>\n",
       "    <tr>\n",
       "      <th rowspan=\"3\" valign=\"top\">HARTLAND    106</th>\n",
       "      <th>ELF</th>\n",
       "      <td>1</td>\n",
       "    </tr>\n",
       "    <tr>\n",
       "      <th>FOA</th>\n",
       "      <td>2</td>\n",
       "    </tr>\n",
       "    <tr>\n",
       "      <th>IPFR180</th>\n",
       "      <td>6</td>\n",
       "    </tr>\n",
       "    <tr>\n",
       "      <th rowspan=\"2\" valign=\"top\">IBS F39000 -LTB</th>\n",
       "      <th>FOA</th>\n",
       "      <td>1</td>\n",
       "    </tr>\n",
       "    <tr>\n",
       "      <th>IPFR180</th>\n",
       "      <td>1</td>\n",
       "    </tr>\n",
       "    <tr>\n",
       "      <th rowspan=\"2\" valign=\"top\">MINNETONKA  101</th>\n",
       "      <th>ELF</th>\n",
       "      <td>1</td>\n",
       "    </tr>\n",
       "    <tr>\n",
       "      <th>IPFR180</th>\n",
       "      <td>2</td>\n",
       "    </tr>\n",
       "    <tr>\n",
       "      <th rowspan=\"3\" valign=\"top\">PEWAUKEE    101</th>\n",
       "      <th>ELF</th>\n",
       "      <td>159</td>\n",
       "    </tr>\n",
       "    <tr>\n",
       "      <th>FOA</th>\n",
       "      <td>127</td>\n",
       "    </tr>\n",
       "    <tr>\n",
       "      <th>IPFR180</th>\n",
       "      <td>407</td>\n",
       "    </tr>\n",
       "    <tr>\n",
       "      <th>PITTSBURGH  101</th>\n",
       "      <th>IPFR180</th>\n",
       "      <td>1</td>\n",
       "    </tr>\n",
       "    <tr>\n",
       "      <th>RIMPAR      102</th>\n",
       "      <th>FOA</th>\n",
       "      <td>1</td>\n",
       "    </tr>\n",
       "    <tr>\n",
       "      <th rowspan=\"3\" valign=\"top\">SHENZHEN    102</th>\n",
       "      <th>ELF</th>\n",
       "      <td>9</td>\n",
       "    </tr>\n",
       "    <tr>\n",
       "      <th>FOA</th>\n",
       "      <td>13</td>\n",
       "    </tr>\n",
       "    <tr>\n",
       "      <th>IPFR180</th>\n",
       "      <td>72</td>\n",
       "    </tr>\n",
       "    <tr>\n",
       "      <th>WAUKESHA    101</th>\n",
       "      <th>IPFR180</th>\n",
       "      <td>1</td>\n",
       "    </tr>\n",
       "    <tr>\n",
       "      <th rowspan=\"3\" valign=\"top\">WAUKESHA    105</th>\n",
       "      <th>ELF</th>\n",
       "      <td>6</td>\n",
       "    </tr>\n",
       "    <tr>\n",
       "      <th>FOA</th>\n",
       "      <td>6</td>\n",
       "    </tr>\n",
       "    <tr>\n",
       "      <th>IPFR180</th>\n",
       "      <td>24</td>\n",
       "    </tr>\n",
       "    <tr>\n",
       "      <th>WHEELING    101</th>\n",
       "      <th>IPFR180</th>\n",
       "      <td>1</td>\n",
       "    </tr>\n",
       "    <tr>\n",
       "      <th>WUXI  102</th>\n",
       "      <th>ELF</th>\n",
       "      <td>1</td>\n",
       "    </tr>\n",
       "    <tr>\n",
       "      <th rowspan=\"3\" valign=\"top\">XIAMEN      101</th>\n",
       "      <th>ELF</th>\n",
       "      <td>8</td>\n",
       "    </tr>\n",
       "    <tr>\n",
       "      <th>FOA</th>\n",
       "      <td>5</td>\n",
       "    </tr>\n",
       "    <tr>\n",
       "      <th>IPFR180</th>\n",
       "      <td>7</td>\n",
       "    </tr>\n",
       "  </tbody>\n",
       "</table>\n",
       "</div>"
      ],
      "text/plain": [
       "                                                           failed_part_no\n",
       "failed_part_supplier_site_code adjusted_earlylife_failure                \n",
       "AURORA      102                ELF                                     33\n",
       "                               FOA                                     22\n",
       "                               IPFR180                                105\n",
       "BAOTOU      101                ELF                                      1\n",
       "BEST        105                ELF                                     37\n",
       "                               FOA                                     24\n",
       "                               IPFR180                                206\n",
       "BROOKLYN PAR102                FOA                                      3\n",
       "                               IPFR180                                  4\n",
       "CHANDLER    104                ELF                                      1\n",
       "COCHIN      101                ELF                                     24\n",
       "                               FOA                                      4\n",
       "                               IPFR180                                 79\n",
       "FENTON      101                ELF                                      3\n",
       "                               IPFR180                                 24\n",
       "HARTLAND    106                ELF                                      1\n",
       "                               FOA                                      2\n",
       "                               IPFR180                                  6\n",
       "IBS F39000 -LTB                FOA                                      1\n",
       "                               IPFR180                                  1\n",
       "MINNETONKA  101                ELF                                      1\n",
       "                               IPFR180                                  2\n",
       "PEWAUKEE    101                ELF                                    159\n",
       "                               FOA                                    127\n",
       "                               IPFR180                                407\n",
       "PITTSBURGH  101                IPFR180                                  1\n",
       "RIMPAR      102                FOA                                      1\n",
       "SHENZHEN    102                ELF                                      9\n",
       "                               FOA                                     13\n",
       "                               IPFR180                                 72\n",
       "WAUKESHA    101                IPFR180                                  1\n",
       "WAUKESHA    105                ELF                                      6\n",
       "                               FOA                                      6\n",
       "                               IPFR180                                 24\n",
       "WHEELING    101                IPFR180                                  1\n",
       "WUXI  102                      ELF                                      1\n",
       "XIAMEN      101                ELF                                      8\n",
       "                               FOA                                      5\n",
       "                               IPFR180                                  7"
      ]
     },
     "execution_count": 16,
     "metadata": {},
     "output_type": "execute_result"
    }
   ],
   "source": [
    "dist = data[['adjusted_earlylife_failure', 'failed_part_supplier_site_code', 'failed_part_no']]\n",
    "dist.dropna(subset=['failed_part_supplier_site_code'], inplace=True)\n",
    "group_dist = dist.groupby(['failed_part_supplier_site_code','adjusted_earlylife_failure']).count()\n",
    "group_dist"
   ]
  },
  {
   "cell_type": "code",
   "execution_count": 17,
   "metadata": {},
   "outputs": [
    {
     "data": {
      "text/plain": [
       "<Axes: xlabel='failed_part_supplier_site_code'>"
      ]
     },
     "execution_count": 17,
     "metadata": {},
     "output_type": "execute_result"
    },
    {
     "data": {
      "image/png": "[encoded data removed]",
      "text/plain": [
       "<Figure size 640x480 with 1 Axes>"
      ]
     },
     "metadata": {},
     "output_type": "display_data"
    }
   ],
   "source": [
    "group_dist = dist.groupby(['failed_part_supplier_site_code','adjusted_earlylife_failure']).count().unstack()\n",
    "group_dist.columns = group_dist.columns.droplevel()\n",
    "group_dist.plot.bar(stacked = True, rot=90)"
   ]
  },
  {
   "cell_type": "code",
   "execution_count": 18,
   "metadata": {},
   "outputs": [],
   "source": [
    "df = group_dist.sum(axis=1)\n",
    "group_dist['ratio'] = group_dist['FOA']/df"
   ]
  },
  {
   "cell_type": "code",
   "execution_count": 19,
   "metadata": {},
   "outputs": [
    {
     "data": {
      "text/html": [
       "<div>\n",
       "<style scoped>\n",
       "    .dataframe tbody tr th:only-of-type {\n",
       "        vertical-align: middle;\n",
       "    }\n",
       "\n",
       "    .dataframe tbody tr th {\n",
       "        vertical-align: top;\n",
       "    }\n",
       "\n",
       "    .dataframe thead th {\n",
       "        text-align: right;\n",
       "    }\n",
       "</style>\n",
       "<table border=\"1\" class=\"dataframe\">\n",
       "  <thead>\n",
       "    <tr style=\"text-align: right;\">\n",
       "      <th>adjusted_earlylife_failure</th>\n",
       "      <th>ELF</th>\n",
       "      <th>FOA</th>\n",
       "      <th>IPFR180</th>\n",
       "      <th>ratio</th>\n",
       "    </tr>\n",
       "    <tr>\n",
       "      <th>failed_part_supplier_site_code</th>\n",
       "      <th></th>\n",
       "      <th></th>\n",
       "      <th></th>\n",
       "      <th></th>\n",
       "    </tr>\n",
       "  </thead>\n",
       "  <tbody>\n",
       "    <tr>\n",
       "      <th>AURORA      102</th>\n",
       "      <td>33.0</td>\n",
       "      <td>22.0</td>\n",
       "      <td>105.0</td>\n",
       "      <td>0.137500</td>\n",
       "    </tr>\n",
       "    <tr>\n",
       "      <th>BAOTOU      101</th>\n",
       "      <td>1.0</td>\n",
       "      <td>NaN</td>\n",
       "      <td>NaN</td>\n",
       "      <td>NaN</td>\n",
       "    </tr>\n",
       "    <tr>\n",
       "      <th>BEST        105</th>\n",
       "      <td>37.0</td>\n",
       "      <td>24.0</td>\n",
       "      <td>206.0</td>\n",
       "      <td>0.089888</td>\n",
       "    </tr>\n",
       "    <tr>\n",
       "      <th>BROOKLYN PAR102</th>\n",
       "      <td>NaN</td>\n",
       "      <td>3.0</td>\n",
       "      <td>4.0</td>\n",
       "      <td>0.428571</td>\n",
       "    </tr>\n",
       "    <tr>\n",
       "      <th>CHANDLER    104</th>\n",
       "      <td>1.0</td>\n",
       "      <td>NaN</td>\n",
       "      <td>NaN</td>\n",
       "      <td>NaN</td>\n",
       "    </tr>\n",
       "    <tr>\n",
       "      <th>COCHIN      101</th>\n",
       "      <td>24.0</td>\n",
       "      <td>4.0</td>\n",
       "      <td>79.0</td>\n",
       "      <td>0.037383</td>\n",
       "    </tr>\n",
       "    <tr>\n",
       "      <th>FENTON      101</th>\n",
       "      <td>3.0</td>\n",
       "      <td>NaN</td>\n",
       "      <td>24.0</td>\n",
       "      <td>NaN</td>\n",
       "    </tr>\n",
       "    <tr>\n",
       "      <th>HARTLAND    106</th>\n",
       "      <td>1.0</td>\n",
       "      <td>2.0</td>\n",
       "      <td>6.0</td>\n",
       "      <td>0.222222</td>\n",
       "    </tr>\n",
       "    <tr>\n",
       "      <th>IBS F39000 -LTB</th>\n",
       "      <td>NaN</td>\n",
       "      <td>1.0</td>\n",
       "      <td>1.0</td>\n",
       "      <td>0.500000</td>\n",
       "    </tr>\n",
       "    <tr>\n",
       "      <th>MINNETONKA  101</th>\n",
       "      <td>1.0</td>\n",
       "      <td>NaN</td>\n",
       "      <td>2.0</td>\n",
       "      <td>NaN</td>\n",
       "    </tr>\n",
       "    <tr>\n",
       "      <th>PEWAUKEE    101</th>\n",
       "      <td>159.0</td>\n",
       "      <td>127.0</td>\n",
       "      <td>407.0</td>\n",
       "      <td>0.183261</td>\n",
       "    </tr>\n",
       "    <tr>\n",
       "      <th>PITTSBURGH  101</th>\n",
       "      <td>NaN</td>\n",
       "      <td>NaN</td>\n",
       "      <td>1.0</td>\n",
       "      <td>NaN</td>\n",
       "    </tr>\n",
       "    <tr>\n",
       "      <th>RIMPAR      102</th>\n",
       "      <td>NaN</td>\n",
       "      <td>1.0</td>\n",
       "      <td>NaN</td>\n",
       "      <td>1.000000</td>\n",
       "    </tr>\n",
       "    <tr>\n",
       "      <th>SHENZHEN    102</th>\n",
       "      <td>9.0</td>\n",
       "      <td>13.0</td>\n",
       "      <td>72.0</td>\n",
       "      <td>0.138298</td>\n",
       "    </tr>\n",
       "    <tr>\n",
       "      <th>WAUKESHA    101</th>\n",
       "      <td>NaN</td>\n",
       "      <td>NaN</td>\n",
       "      <td>1.0</td>\n",
       "      <td>NaN</td>\n",
       "    </tr>\n",
       "    <tr>\n",
       "      <th>WAUKESHA    105</th>\n",
       "      <td>6.0</td>\n",
       "      <td>6.0</td>\n",
       "      <td>24.0</td>\n",
       "      <td>0.166667</td>\n",
       "    </tr>\n",
       "    <tr>\n",
       "      <th>WHEELING    101</th>\n",
       "      <td>NaN</td>\n",
       "      <td>NaN</td>\n",
       "      <td>1.0</td>\n",
       "      <td>NaN</td>\n",
       "    </tr>\n",
       "    <tr>\n",
       "      <th>WUXI  102</th>\n",
       "      <td>1.0</td>\n",
       "      <td>NaN</td>\n",
       "      <td>NaN</td>\n",
       "      <td>NaN</td>\n",
       "    </tr>\n",
       "    <tr>\n",
       "      <th>XIAMEN      101</th>\n",
       "      <td>8.0</td>\n",
       "      <td>5.0</td>\n",
       "      <td>7.0</td>\n",
       "      <td>0.250000</td>\n",
       "    </tr>\n",
       "  </tbody>\n",
       "</table>\n",
       "</div>"
      ],
      "text/plain": [
       "adjusted_earlylife_failure        ELF    FOA  IPFR180     ratio\n",
       "failed_part_supplier_site_code                                 \n",
       "AURORA      102                  33.0   22.0    105.0  0.137500\n",
       "BAOTOU      101                   1.0    NaN      NaN       NaN\n",
       "BEST        105                  37.0   24.0    206.0  0.089888\n",
       "BROOKLYN PAR102                   NaN    3.0      4.0  0.428571\n",
       "CHANDLER    104                   1.0    NaN      NaN       NaN\n",
       "COCHIN      101                  24.0    4.0     79.0  0.037383\n",
       "FENTON      101                   3.0    NaN     24.0       NaN\n",
       "HARTLAND    106                   1.0    2.0      6.0  0.222222\n",
       "IBS F39000 -LTB                   NaN    1.0      1.0  0.500000\n",
       "MINNETONKA  101                   1.0    NaN      2.0       NaN\n",
       "PEWAUKEE    101                 159.0  127.0    407.0  0.183261\n",
       "PITTSBURGH  101                   NaN    NaN      1.0       NaN\n",
       "RIMPAR      102                   NaN    1.0      NaN  1.000000\n",
       "SHENZHEN    102                   9.0   13.0     72.0  0.138298\n",
       "WAUKESHA    101                   NaN    NaN      1.0       NaN\n",
       "WAUKESHA    105                   6.0    6.0     24.0  0.166667\n",
       "WHEELING    101                   NaN    NaN      1.0       NaN\n",
       "WUXI  102                         1.0    NaN      NaN       NaN\n",
       "XIAMEN      101                   8.0    5.0      7.0  0.250000"
      ]
     },
     "execution_count": 19,
     "metadata": {},
     "output_type": "execute_result"
    }
   ],
   "source": [
    "group_dist"
   ]
  },
  {
   "cell_type": "code",
   "execution_count": 25,
   "metadata": {},
   "outputs": [
    {
     "data": {
      "text/html": [
       "<div>\n",
       "<style scoped>\n",
       "    .dataframe tbody tr th:only-of-type {\n",
       "        vertical-align: middle;\n",
       "    }\n",
       "\n",
       "    .dataframe tbody tr th {\n",
       "        vertical-align: top;\n",
       "    }\n",
       "\n",
       "    .dataframe thead th {\n",
       "        text-align: right;\n",
       "    }\n",
       "</style>\n",
       "<table border=\"1\" class=\"dataframe\">\n",
       "  <thead>\n",
       "    <tr style=\"text-align: right;\">\n",
       "      <th>adjusted_earlylife_failure</th>\n",
       "      <th>ELF</th>\n",
       "      <th>FOA</th>\n",
       "      <th>IPFR180</th>\n",
       "      <th>ratio</th>\n",
       "    </tr>\n",
       "    <tr>\n",
       "      <th>failed_part_supplier_site_code</th>\n",
       "      <th></th>\n",
       "      <th></th>\n",
       "      <th></th>\n",
       "      <th></th>\n",
       "    </tr>\n",
       "  </thead>\n",
       "  <tbody>\n",
       "    <tr>\n",
       "      <th>AURORA      102</th>\n",
       "      <td>33.0</td>\n",
       "      <td>22.0</td>\n",
       "      <td>105.0</td>\n",
       "      <td>0.137500</td>\n",
       "    </tr>\n",
       "    <tr>\n",
       "      <th>BEST        105</th>\n",
       "      <td>37.0</td>\n",
       "      <td>24.0</td>\n",
       "      <td>206.0</td>\n",
       "      <td>0.089888</td>\n",
       "    </tr>\n",
       "    <tr>\n",
       "      <th>COCHIN      101</th>\n",
       "      <td>24.0</td>\n",
       "      <td>4.0</td>\n",
       "      <td>79.0</td>\n",
       "      <td>0.037383</td>\n",
       "    </tr>\n",
       "    <tr>\n",
       "      <th>HARTLAND    106</th>\n",
       "      <td>1.0</td>\n",
       "      <td>2.0</td>\n",
       "      <td>6.0</td>\n",
       "      <td>0.222222</td>\n",
       "    </tr>\n",
       "    <tr>\n",
       "      <th>PEWAUKEE    101</th>\n",
       "      <td>159.0</td>\n",
       "      <td>127.0</td>\n",
       "      <td>407.0</td>\n",
       "      <td>0.183261</td>\n",
       "    </tr>\n",
       "    <tr>\n",
       "      <th>SHENZHEN    102</th>\n",
       "      <td>9.0</td>\n",
       "      <td>13.0</td>\n",
       "      <td>72.0</td>\n",
       "      <td>0.138298</td>\n",
       "    </tr>\n",
       "    <tr>\n",
       "      <th>WAUKESHA    105</th>\n",
       "      <td>6.0</td>\n",
       "      <td>6.0</td>\n",
       "      <td>24.0</td>\n",
       "      <td>0.166667</td>\n",
       "    </tr>\n",
       "    <tr>\n",
       "      <th>XIAMEN      101</th>\n",
       "      <td>8.0</td>\n",
       "      <td>5.0</td>\n",
       "      <td>7.0</td>\n",
       "      <td>0.250000</td>\n",
       "    </tr>\n",
       "  </tbody>\n",
       "</table>\n",
       "</div>"
      ],
      "text/plain": [
       "adjusted_earlylife_failure        ELF    FOA  IPFR180     ratio\n",
       "failed_part_supplier_site_code                                 \n",
       "AURORA      102                  33.0   22.0    105.0  0.137500\n",
       "BEST        105                  37.0   24.0    206.0  0.089888\n",
       "COCHIN      101                  24.0    4.0     79.0  0.037383\n",
       "HARTLAND    106                   1.0    2.0      6.0  0.222222\n",
       "PEWAUKEE    101                 159.0  127.0    407.0  0.183261\n",
       "SHENZHEN    102                   9.0   13.0     72.0  0.138298\n",
       "WAUKESHA    105                   6.0    6.0     24.0  0.166667\n",
       "XIAMEN      101                   8.0    5.0      7.0  0.250000"
      ]
     },
     "execution_count": 25,
     "metadata": {},
     "output_type": "execute_result"
    }
   ],
   "source": [
    "dist2 = group_dist.dropna()\n",
    "dist2"
   ]
  },
  {
   "cell_type": "code",
   "execution_count": 24,
   "metadata": {},
   "outputs": [
    {
     "data": {
      "text/plain": [
       "<Axes: xlabel='failed_part_supplier_site_code'>"
      ]
     },
     "execution_count": 24,
     "metadata": {},
     "output_type": "execute_result"
    },
    {
     "data": {
      "image/png": "[encoded data removed]",
      "text/plain": [
       "<Figure size 640x480 with 1 Axes>"
      ]
     },
     "metadata": {},
     "output_type": "display_data"
    }
   ],
   "source": [
    "dist2.drop(columns='ratio').plot.bar(stacked = True, rot=90)"
   ]
  },
  {
   "cell_type": "code",
   "execution_count": null,
   "metadata": {},
   "outputs": [],
   "source": []
  }
 ],
 "metadata": {
  "kernelspec": {
   "display_name": "base",
   "language": "python",
   "name": "python3"
  },
  "language_info": {
   "codemirror_mode": {
    "name": "ipython",
    "version": 3
   },
   "file_extension": ".py",
   "mimetype": "text/x-python",
   "name": "python",
   "nbconvert_exporter": "python",
   "pygments_lexer": "ipython3",
   "version": "3.10.9"
  },
  "orig_nbformat": 4
 },
 "nbformat": 4,
 "nbformat_minor": 2
}
